{
  "nbformat": 4,
  "nbformat_minor": 0,
  "metadata": {
    "colab": {
      "name": "Week7-A108260096-陳孝恩.ipynb",
      "provenance": [],
      "collapsed_sections": []
    },
    "kernelspec": {
      "name": "python3",
      "display_name": "Python 3"
    }
  },
  "cells": [
    {
      "cell_type": "code",
      "metadata": {
        "id": "fLaBqBm9bnkd",
        "colab_type": "code",
        "outputId": "21082621-a360-4758-fa72-e79df702868d",
        "colab": {
          "base_uri": "https://localhost:8080/",
          "height": 68
        }
      },
      "source": [
        "print(\"Welcome to the Mashup Game!\")\n",
        "name1=input(\"Enter one full name (FIRST LAST)\")\n",
        "name2=input(\"Enter another full name (FIRST LAST)\")"
      ],
      "execution_count": 0,
      "outputs": [
        {
          "output_type": "stream",
          "text": [
            "Welcome to the Mashup Game!\n",
            "Enter one full name (FIRST LAST)Aqua Man\n",
            "Enter another full name (FIRST LAST)Cat Woman\n"
          ],
          "name": "stdout"
        }
      ]
    },
    {
      "cell_type": "code",
      "metadata": {
        "id": "L6y5rPqacZX9",
        "colab_type": "code",
        "outputId": "1ed5996a-b3b9-436d-ed4f-80c712f63ea6",
        "colab": {
          "base_uri": "https://localhost:8080/",
          "height": 229
        }
      },
      "source": [
        "space=name1.find(\" \")\n",
        "name1_first=name1[0:space]\n",
        "name1_last=name1[space+1:len(name1)]\n",
        "space=name2.find(\" \")\n",
        "name2_first=name2[0:space]\n",
        "name2_last=name2[space+1:len(name2)]\n",
        "\n",
        "print(name1_first)\n",
        "print(name1_last)\n",
        "print(name2_first)\n",
        "print(name2_last)\n",
        "\n",
        "len_name1_first=len(name1_first)\n",
        "len_name2_first=len(name2_first)\n",
        "len_name1_last=len(name1_last)\n",
        "len_name2_last=len(name2_last)\n",
        "index_name1_first=int(len_name1_first/2)\n",
        "index_name2_first=int(len_name2_first/2)\n",
        "index_name1_last=int(len_name1_last/2)\n",
        "index_name2_last=int(len_name2_last/2)\n",
        "\n",
        "lefthalf_name1_first=name1_first[0:index_name1_first]\n",
        "righthalf_name1_first=name1_first[index_name1_first:len_name1_first]\n",
        "lefthalf_name2_first=name2_first[0:index_name2_first]\n",
        "righthalf_name2_first=name2_first[index_name2_first:len_name2_first]\n",
        "lefthalf_name1_last=name1_last[0:index_name1_last]\n",
        "righthalf_name1_last=name1_last[index_name1_last:len_name1_last]\n",
        "lefthalf_name2_last=name2_last[0:index_name2_last]\n",
        "righthalf_name2_last=name2_last[index_name2_last:len_name2_last]\n",
        "\n",
        "newname1_first=lefthalf_name1_first.capitalize()+righthalf_name1_first.lower()\n",
        "newname1_last=lefthalf_name1_last.capitalize()+righthalf_name2_last.lower()\n",
        "newname2_first=lefthalf_name2_first.capitalize()+righthalf_name1_first.lower()\n",
        "newname2_last=lefthalf_name2_last.capitalize()+righthalf_name1_last.lower()"
      ],
      "execution_count": 0,
      "outputs": [
        {
          "output_type": "error",
          "ename": "NameError",
          "evalue": "ignored",
          "traceback": [
            "\u001b[0;31m---------------------------------------------------------------------------\u001b[0m",
            "\u001b[0;31mNameError\u001b[0m                                 Traceback (most recent call last)",
            "\u001b[0;32m<ipython-input-6-86ad9d71ef4f>\u001b[0m in \u001b[0;36m<module>\u001b[0;34m()\u001b[0m\n\u001b[0;32m----> 1\u001b[0;31m \u001b[0mspace\u001b[0m\u001b[0;34m=\u001b[0m\u001b[0mname1\u001b[0m\u001b[0;34m.\u001b[0m\u001b[0mfind\u001b[0m\u001b[0;34m(\u001b[0m\u001b[0;34m\" \"\u001b[0m\u001b[0;34m)\u001b[0m\u001b[0;34m\u001b[0m\u001b[0;34m\u001b[0m\u001b[0m\n\u001b[0m\u001b[1;32m      2\u001b[0m \u001b[0mname1_first\u001b[0m\u001b[0;34m=\u001b[0m\u001b[0mname1\u001b[0m\u001b[0;34m[\u001b[0m\u001b[0;36m0\u001b[0m\u001b[0;34m:\u001b[0m\u001b[0mspace\u001b[0m\u001b[0;34m]\u001b[0m\u001b[0;34m\u001b[0m\u001b[0;34m\u001b[0m\u001b[0m\n\u001b[1;32m      3\u001b[0m \u001b[0mname1_last\u001b[0m\u001b[0;34m=\u001b[0m\u001b[0mname1\u001b[0m\u001b[0;34m[\u001b[0m\u001b[0mspace\u001b[0m\u001b[0;34m+\u001b[0m\u001b[0;36m1\u001b[0m\u001b[0;34m:\u001b[0m\u001b[0mlen\u001b[0m\u001b[0;34m(\u001b[0m\u001b[0mname1\u001b[0m\u001b[0;34m)\u001b[0m\u001b[0;34m]\u001b[0m\u001b[0;34m\u001b[0m\u001b[0;34m\u001b[0m\u001b[0m\n\u001b[1;32m      4\u001b[0m \u001b[0mspace\u001b[0m\u001b[0;34m=\u001b[0m\u001b[0mname2\u001b[0m\u001b[0;34m.\u001b[0m\u001b[0mfind\u001b[0m\u001b[0;34m(\u001b[0m\u001b[0;34m\" \"\u001b[0m\u001b[0;34m)\u001b[0m\u001b[0;34m\u001b[0m\u001b[0;34m\u001b[0m\u001b[0m\n\u001b[1;32m      5\u001b[0m \u001b[0mname2_first\u001b[0m\u001b[0;34m=\u001b[0m\u001b[0mname2\u001b[0m\u001b[0;34m[\u001b[0m\u001b[0;36m0\u001b[0m\u001b[0;34m:\u001b[0m\u001b[0mspace\u001b[0m\u001b[0;34m]\u001b[0m\u001b[0;34m\u001b[0m\u001b[0;34m\u001b[0m\u001b[0m\n",
            "\u001b[0;31mNameError\u001b[0m: name 'name1' is not defined"
          ]
        }
      ]
    },
    {
      "cell_type": "code",
      "metadata": {
        "id": "8Y4KNqLqivAE",
        "colab_type": "code",
        "outputId": "faa5f0af-a48d-4d04-85b9-f933d929ca1a",
        "colab": {
          "base_uri": "https://localhost:8080/",
          "height": 216
        }
      },
      "source": [
        "print(\"All done! Here are two possibilities,pick the one you like best!\")\n",
        "print(newname1_first, newname1_last)\n",
        "print(newname2_first, newname2_last)"
      ],
      "execution_count": 5,
      "outputs": [
        {
          "output_type": "stream",
          "text": [
            "All done! Here are two possibilities,pick the one you like best!\n"
          ],
          "name": "stdout"
        },
        {
          "output_type": "error",
          "ename": "NameError",
          "evalue": "ignored",
          "traceback": [
            "\u001b[0;31m---------------------------------------------------------------------------\u001b[0m",
            "\u001b[0;31mNameError\u001b[0m                                 Traceback (most recent call last)",
            "\u001b[0;32m<ipython-input-5-66142af616c2>\u001b[0m in \u001b[0;36m<module>\u001b[0;34m()\u001b[0m\n\u001b[1;32m      1\u001b[0m \u001b[0mprint\u001b[0m\u001b[0;34m(\u001b[0m\u001b[0;34m\"All done! Here are two possibilities,pick the one you like best!\"\u001b[0m\u001b[0;34m)\u001b[0m\u001b[0;34m\u001b[0m\u001b[0;34m\u001b[0m\u001b[0m\n\u001b[0;32m----> 2\u001b[0;31m \u001b[0mprint\u001b[0m\u001b[0;34m(\u001b[0m\u001b[0mnewname1_first\u001b[0m\u001b[0;34m,\u001b[0m \u001b[0mnewname1_last\u001b[0m\u001b[0;34m)\u001b[0m\u001b[0;34m\u001b[0m\u001b[0;34m\u001b[0m\u001b[0m\n\u001b[0m\u001b[1;32m      3\u001b[0m \u001b[0mprint\u001b[0m\u001b[0;34m(\u001b[0m\u001b[0mnewname2_first\u001b[0m\u001b[0;34m,\u001b[0m \u001b[0mnewname2_last\u001b[0m\u001b[0;34m)\u001b[0m\u001b[0;34m\u001b[0m\u001b[0;34m\u001b[0m\u001b[0m\n",
            "\u001b[0;31mNameError\u001b[0m: name 'newname1_first' is not defined"
          ]
        }
      ]
    },
    {
      "cell_type": "code",
      "metadata": {
        "id": "J-H0kTka7Ok-",
        "colab_type": "code",
        "outputId": "0d45ab27-1eb2-4fc5-853b-59d25af65f0c",
        "colab": {
          "base_uri": "https://localhost:8080/",
          "height": 187
        }
      },
      "source": [
        "print(\"Welcome to the Mashup Game1\")\n",
        "name1=input(\"Enter one full name (FIRST LAST): \")\n",
        "name2=input(\"Enter another full name (FIRST LAST): \")\n",
        "\n",
        "space=name1.find(\" \")\n",
        "name1_first=name1[0:space]\n",
        "name1_last=name1[space+1:len(name1)]\n",
        "space=name2.find(\" \")\n",
        "name2_first=name2[0:space]\n",
        "name2_last=name2[space+1:len(name2)]\n",
        "\n",
        "print(name1_first)\n",
        "print(name1_last)\n",
        "print(name2_first)\n",
        "print(name2_last)\n",
        "\n",
        "len_name1_first=len(name1_first)\n",
        "len_name2_first=len(name2_first)\n",
        "len_name1_last=len(name1_last)\n",
        "len_name2_last=len(name2_last)\n",
        "index_name1_first=int(len_name1_first/2)\n",
        "index_name2_first=int(len_name2_first/2)\n",
        "index_name1_last=int(len_name1_last/2)\n",
        "index_name2_last=int(len_name2_last/2)\n",
        "\n",
        "lefthalf_name1_first=name1_first[0:index_name1_first]\n",
        "righthalf_name1_first=name1_first[index_name1_first:len_name1_first]\n",
        "lefthalf_name2_first=name2_first[0:index_name2_first]\n",
        "righthalf_name2_first=name2_first[index_name2_first:len_name2_first]\n",
        "lefthalf_name1_last=name1_last[0:index_name1_last]\n",
        "righthalf_name1_last=name1_last[index_name1_last:len_name1_last]\n",
        "lefthalf_name2_last=name2_last[0:index_name2_last]\n",
        "righthalf_name2_last=name2_last[index_name2_last:len_name2_last]\n",
        "\n",
        "newname1_first=lefthalf_name1_first.capitalize()+righthalf_name1_first.lower()\n",
        "newname1_last=lefthalf_name1_last.capitalize()+righthalf_name2_last.lower()\n",
        "newname2_first=lefthalf_name2_first.capitalize()+righthalf_name1_first.lower()\n",
        "newname2_last=lefthalf_name2_last.capitalize()+righthalf_name1_last.lower()\n",
        "\n",
        "print(\"All done! Here are two possibilities,pick the one you like best!\")\n",
        "print(newname1_first, newname1_last)\n",
        "print(newname2_first, newname2_last)"
      ],
      "execution_count": 6,
      "outputs": [
        {
          "output_type": "stream",
          "text": [
            "Welcome to the Mashup Game1\n",
            "Enter one full name (FIRST LAST): Bigflower Francis\n",
            "Enter another full name (FIRST LAST): Hunghua Tien\n",
            "Bigflower\n",
            "Francis\n",
            "Hunghua\n",
            "Tien\n",
            "All done! Here are two possibilities,pick the one you like best!\n",
            "Bigflower Fraen\n",
            "Hunlower Tincis\n"
          ],
          "name": "stdout"
        }
      ]
    },
    {
      "cell_type": "code",
      "metadata": {
        "id": "uCaV_KWk_qhR",
        "colab_type": "code",
        "outputId": "fa64b3c8-2929-4e0b-f7bd-b1bb1daf5cd4",
        "colab": {
          "base_uri": "https://localhost:8080/",
          "height": 50
        }
      },
      "source": [
        "s=input('請輸入一個字串?')\n",
        "\n",
        "print('迴文判斷結果為',s==s[::-1])"
      ],
      "execution_count": 0,
      "outputs": [
        {
          "output_type": "stream",
          "text": [
            "請輸入一個字串?abcdefggfedcba\n",
            "迴文判斷結果為 True\n"
          ],
          "name": "stdout"
        }
      ]
    },
    {
      "cell_type": "code",
      "metadata": {
        "id": "QNSrpiohAdCl",
        "colab_type": "code",
        "outputId": "05698ada-3f58-43e4-9733-8b9e10e4fde7",
        "colab": {
          "base_uri": "https://localhost:8080/",
          "height": 134
        }
      },
      "source": [
        "代辦事項=[]\n",
        "\n",
        "工作=input('請輸入代辦事項?')\n",
        "代辦事項.append(工作)\n",
        "工作=input('請輸入代辦事項?')\n",
        "代辦事項.append(工作)\n",
        "工作=input('請輸入代辦事項?')\n",
        "代辦事項.append(工作)\n",
        "工作=input('請輸入代辦事項?')\n",
        "代辦事項.append(工作)\n",
        "工作=input('請輸入代辦事項?')\n",
        "代辦事項.append(工作)\n",
        "\n",
        "print(代辦事項.pop(0),代辦事項.pop(0),代辦事項)\n",
        "print(代辦事項.pop(),代辦事項)"
      ],
      "execution_count": 0,
      "outputs": [
        {
          "output_type": "stream",
          "text": [
            "請輸入代辦事項?打球\n",
            "請輸入代辦事項?閱讀\n",
            "請輸入代辦事項?吃飯\n",
            "請輸入代辦事項?借書\n",
            "請輸入代辦事項?寫程式\n",
            "打球 閱讀 ['吃飯', '借書', '寫程式']\n",
            "寫程式 ['吃飯', '借書']\n"
          ],
          "name": "stdout"
        }
      ]
    },
    {
      "cell_type": "code",
      "metadata": {
        "id": "QpURUZVHBrVN",
        "colab_type": "code",
        "outputId": "4c1cb8a7-6230-4948-e5e4-d145f0121927",
        "colab": {
          "base_uri": "https://localhost:8080/",
          "height": 84
        }
      },
      "source": [
        "字典={'dog':'狗','fish':'魚','cat':'貓','pig':'豬'}\n",
        "print(字典.keys())\n",
        "print(字典)\n",
        "英文=input('請輸入一個英文單字?')\n",
        "print(字典.get(英文,'字典找不到該單字'))"
      ],
      "execution_count": 0,
      "outputs": [
        {
          "output_type": "stream",
          "text": [
            "dict_keys(['dog', 'fish', 'cat', 'pig'])\n",
            "{'dog': '狗', 'fish': '魚', 'cat': '貓', 'pig': '豬'}\n",
            "請輸入一個英文單字?dog\n",
            "狗\n"
          ],
          "name": "stdout"
        }
      ]
    },
    {
      "cell_type": "code",
      "metadata": {
        "id": "A85JszrLCuRw",
        "colab_type": "code",
        "outputId": "29d32437-4d7e-4aca-f473-68bd12213fbb",
        "colab": {
          "base_uri": "https://localhost:8080/",
          "height": 84
        }
      },
      "source": [
        "字典={'dog':'狗','fish':'魚','cat':'貓','pig':'豬'}\n",
        "print(字典.keys())\n",
        "print(字典)\n",
        "英文=input('請輸入一個英文單字?')\n",
        "print(字典.get(英文,'字典找不到該單字'))"
      ],
      "execution_count": 0,
      "outputs": [
        {
          "output_type": "stream",
          "text": [
            "dict_keys(['dog', 'fish', 'cat', 'pig'])\n",
            "{'dog': '狗', 'fish': '魚', 'cat': '貓', 'pig': '豬'}\n",
            "請輸入一個英文單字?turtle\n",
            "字典找不到該單字\n"
          ],
          "name": "stdout"
        }
      ]
    },
    {
      "cell_type": "code",
      "metadata": {
        "id": "8shTQ6qRDQmr",
        "colab_type": "code",
        "outputId": "eddf3947-ae1b-44d0-b68a-b0bfec72c783",
        "colab": {
          "base_uri": "https://localhost:8080/",
          "height": 54
        }
      },
      "source": [
        "詩='春眠不覺曉，處處聞啼鳥。夜來風雨聲，花落知多少。'\n",
        "字=set(詩)\n",
        "字.remove('，')\n",
        "字.remove('。')\n",
        "print(字)"
      ],
      "execution_count": 0,
      "outputs": [
        {
          "output_type": "stream",
          "text": [
            "{'多', '聞', '聲', '啼', '夜', '處', '覺', '鳥', '雨', '落', '少', '曉', '來', '不', '眠', '春', '花', '知', '風'}\n"
          ],
          "name": "stdout"
        }
      ]
    },
    {
      "cell_type": "code",
      "metadata": {
        "id": "YA6-X-RAD8l7",
        "colab_type": "code",
        "outputId": "e11dea9e-81cc-46d9-ca84-f1c25fae6660",
        "colab": {
          "base_uri": "https://localhost:8080/",
          "height": 51
        }
      },
      "source": [
        "星期=['Sunday','Monday','Tuesday','Wednesday','Thursday','Friday','Saturday']\n",
        "月份=['January','February','March','April','May','June',\n",
        "    'July','August','September','October','November','December']\n",
        "dic={'week':星期,'month':月份}\n",
        "print(dic['month'])\n",
        "print(dic['month'][7])"
      ],
      "execution_count": 3,
      "outputs": [
        {
          "output_type": "stream",
          "text": [
            "['January', 'February', 'March', 'April', 'May', 'June', 'July', 'August', 'September', 'October', 'November', 'December']\n",
            "August\n"
          ],
          "name": "stdout"
        }
      ]
    },
    {
      "cell_type": "code",
      "metadata": {
        "id": "W5nHSdUQFtgH",
        "colab_type": "code",
        "colab": {
          "base_uri": "https://localhost:8080/",
          "height": 85
        },
        "outputId": "a11c28d9-4661-424d-d094-7098c3afee7e"
      },
      "source": [
        "s=input('請輸入一行英文句子?')\n",
        "words=s.split(' ')\n",
        "print('將英文句子以空白字元切割後，獲得單字為',words)\n",
        "\n",
        "s2=''.join(words)\n",
        "print('以空白字元結合所有單字後，獲得句子為',s2)\n",
        "\n",
        "s3=s.title()\n",
        "print('將每個單字字首轉大寫後，獲得句子為',s3)"
      ],
      "execution_count": 9,
      "outputs": [
        {
          "output_type": "stream",
          "text": [
            "請輸入一行英文句子?an apple a day keeps the doctor away\n",
            "將英文句子以空白字元切割後，獲得單字為 ['an', 'apple', 'a', 'day', 'keeps', 'the', 'doctor', 'away']\n",
            "以空白字元結合所有單字後，獲得句子為 anappleadaykeepsthedoctoraway\n",
            "將每個單字字首轉大寫後，獲得句子為 An Apple A Day Keeps The Doctor Away\n"
          ],
          "name": "stdout"
        }
      ]
    },
    {
      "cell_type": "code",
      "metadata": {
        "id": "FS1FeXNAaGwu",
        "colab_type": "code",
        "colab": {
          "base_uri": "https://localhost:8080/",
          "height": 51
        },
        "outputId": "d1cce7c1-b6fe-4f31-decc-4ea1cf57f5e1"
      },
      "source": [
        "s=input('請輸入一行英文句子?')\n",
        "s.strip('.')\n",
        "words=s.split(' ')\n",
        "print(words[::-1])"
      ],
      "execution_count": 10,
      "outputs": [
        {
          "output_type": "stream",
          "text": [
            "請輸入一行英文句子?an apple a day keeps the doctor away\n",
            "['away', 'doctor', 'the', 'keeps', 'day', 'a', 'apple', 'an']\n"
          ],
          "name": "stdout"
        }
      ]
    },
    {
      "cell_type": "code",
      "metadata": {
        "id": "GtYygWKQcQE9",
        "colab_type": "code",
        "colab": {
          "base_uri": "https://localhost:8080/",
          "height": 68
        },
        "outputId": "fc0b113d-fb17-4639-da8b-481ea61269c5"
      },
      "source": [
        "全班學生=set(['Jorn','Mary','Tna','Fiona','Claire','Eva','Ben','Bill','Bert'])\n",
        "英文及格=set(['Jorn','Mary','Fiona','Claire','Ben','Bill'])\n",
        "數學及格=set(['Mary','Fiona','Claire','Eva','Ben'])\n",
        "print('英文與數學都及格',英文及格&數學及格)\n",
        "print('數學不及格','全班學生-數學及格')\n",
        "print('英文及格及數學不及格',英文及格&(全班學生-數學及格))"
      ],
      "execution_count": 11,
      "outputs": [
        {
          "output_type": "stream",
          "text": [
            "英文與數學都及格 {'Claire', 'Mary', 'Fiona', 'Ben'}\n",
            "數學不及格 全班學生-數學及格\n",
            "英文及格及數學不及格 {'Bill', 'Jorn'}\n"
          ],
          "name": "stdout"
        }
      ]
    },
    {
      "cell_type": "code",
      "metadata": {
        "id": "MErpCdDwesK1",
        "colab_type": "code",
        "colab": {
          "base_uri": "https://localhost:8080/",
          "height": 34
        },
        "outputId": "d3261d72-d406-46a8-9991-ad1bbdffeb37"
      },
      "source": [
        "p1='紅豆生南國，春來發幾枝?願君多采擷，此物最相思。'\n",
        "p2='春眠不覺曉，處處聞啼鳥。夜來風雨聲，花落知多少。'\n",
        "s1=set(p1)\n",
        "s1.remove('，')\n",
        "s1.remove('。')\n",
        "s1.remove('?')\n",
        "s2=set(p2)\n",
        "s2.remove('，')\n",
        "s2.remove('。')\n",
        "print(s1&s2)"
      ],
      "execution_count": 13,
      "outputs": [
        {
          "output_type": "stream",
          "text": [
            "{'春', '多', '來'}\n"
          ],
          "name": "stdout"
        }
      ]
    },
    {
      "cell_type": "code",
      "metadata": {
        "id": "GCZPbtMDgKxz",
        "colab_type": "code",
        "colab": {
          "base_uri": "https://localhost:8080/",
          "height": 153
        },
        "outputId": "ff03f1b2-d9e8-4b36-92d9-33cf3cc974f5"
      },
      "source": [
        "mail=dict()\n",
        "name=input('請輸入姓名?')\n",
        "email=input('請輸入電子郵件?')\n",
        "mail[name]=email\n",
        "name=input('請輸入姓名?')\n",
        "email=input('請輸入電子郵件?')\n",
        "mail[name]=email\n",
        "name=input('請輸入姓名?')\n",
        "email=input('請輸入電子郵件?')\n",
        "mail[name]=email\n",
        "name=input('請輸入要查詢電子郵件的姓名?')\n",
        "print(mail[name])"
      ],
      "execution_count": 14,
      "outputs": [
        {
          "output_type": "stream",
          "text": [
            "請輸入姓名?John\n",
            "請輸入電子郵件?john@xxx.tw\n",
            "請輸入姓名?Claire\n",
            "請輸入電子郵件?claire@xxx.tw\n",
            "請輸入姓名?Fiona\n",
            "請輸入電子郵件?fiona@xxx.tw\n",
            "請輸入要查詢電子郵件的姓名?Claire\n",
            "claire@xxx.tw\n"
          ],
          "name": "stdout"
        }
      ]
    },
    {
      "cell_type": "code",
      "metadata": {
        "id": "M8d4W_U6h_Op",
        "colab_type": "code",
        "colab": {}
      },
      "source": [
        ""
      ],
      "execution_count": 0,
      "outputs": []
    }
  ]
}