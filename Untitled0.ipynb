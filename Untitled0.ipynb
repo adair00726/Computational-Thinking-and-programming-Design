{
  "nbformat": 4,
  "nbformat_minor": 0,
  "metadata": {
    "colab": {
      "name": "Untitled0.ipynb",
      "provenance": []
    },
    "kernelspec": {
      "name": "python3",
      "display_name": "Python 3"
    }
  },
  "cells": [
    {
      "cell_type": "code",
      "metadata": {
        "id": "HFYG6qHmlxSh",
        "colab_type": "code",
        "colab": {
          "base_uri": "https://localhost:8080/",
          "height": 34
        },
        "outputId": "c1a52400-12f3-410d-fdc4-8d624e56af5e"
      },
      "source": [
        "x=5\n",
        "if x <10:\n",
        "    print(\"x is less than 10\")"
      ],
      "execution_count": 1,
      "outputs": [
        {
          "output_type": "stream",
          "text": [
            "x is less than 10\n"
          ],
          "name": "stdout"
        }
      ]
    },
    {
      "cell_type": "code",
      "metadata": {
        "id": "Otim2jFWnXDp",
        "colab_type": "code",
        "colab": {
          "base_uri": "https://localhost:8080/",
          "height": 204
        },
        "outputId": "c591dffa-2c7d-45c6-ba16-88390715c5ee"
      },
      "source": [
        "x=5 # 判斷條件\n",
        "while x < 10: # 判斷條件\n",
        "     print(\"x is less than 10\")\n",
        "     print(\" I am still here\")\n",
        "     x = x + 1 #更新條件\n",
        "print(\"Finished\")"
      ],
      "execution_count": 2,
      "outputs": [
        {
          "output_type": "stream",
          "text": [
            "x is less than 10\n",
            " I am still here\n",
            "x is less than 10\n",
            " I am still here\n",
            "x is less than 10\n",
            " I am still here\n",
            "x is less than 10\n",
            " I am still here\n",
            "x is less than 10\n",
            " I am still here\n",
            "Finished\n"
          ],
          "name": "stdout"
        }
      ]
    },
    {
      "cell_type": "code",
      "metadata": {
        "id": "UFsihSRop2HY",
        "colab_type": "code",
        "colab": {
          "base_uri": "https://localhost:8080/",
          "height": 102
        },
        "outputId": "fbd4d81c-84a9-43f3-f53d-a78fd92160e9"
      },
      "source": [
        "x = 1 # 初始值\n",
        "while x < 5 : # 判斷條件\n",
        "     print(\"變數x是\", x)\n",
        "     x = x + 1 # 更新條件\n",
        "print(\"Finished\")"
      ],
      "execution_count": 3,
      "outputs": [
        {
          "output_type": "stream",
          "text": [
            "變數x是 1\n",
            "變數x是 2\n",
            "變數x是 3\n",
            "變數x是 4\n",
            "Finished\n"
          ],
          "name": "stdout"
        }
      ]
    },
    {
      "cell_type": "code",
      "metadata": {
        "id": "MRs-YXudp31t",
        "colab_type": "code",
        "colab": {
          "base_uri": "https://localhost:8080/",
          "height": 102
        },
        "outputId": "7d8d678d-72a0-42df-8642-7982cfd15600"
      },
      "source": [
        "# 印十次HELLO\n",
        "\n",
        "x = 1 # 初始值\n",
        "while x < 5 : # 判斷條件\n",
        "     print(\"HELLO\")\n",
        "     x = x + 1 # 更新條件\n",
        "print(\"Finished\")"
      ],
      "execution_count": 5,
      "outputs": [
        {
          "output_type": "stream",
          "text": [
            "HELLO\n",
            "HELLO\n",
            "HELLO\n",
            "HELLO\n",
            "Finished\n"
          ],
          "name": "stdout"
        }
      ]
    },
    {
      "cell_type": "code",
      "metadata": {
        "id": "9VOWobOXqe4Y",
        "colab_type": "code",
        "colab": {
          "base_uri": "https://localhost:8080/",
          "height": 204
        },
        "outputId": "1d1576e1-1ba7-4dad-8fa9-343200788de3"
      },
      "source": [
        "# 印十次HELLO\n",
        "\n",
        "x = 0 # 初始值\n",
        "while x < 10 : # 判斷條件\n",
        "     x = x + 1 # 更新條件\n",
        "     print(\"This is\",x,\"times HELLO\")\n",
        "print(\"Finished\")"
      ],
      "execution_count": 6,
      "outputs": [
        {
          "output_type": "stream",
          "text": [
            "This is 1 times HELLO\n",
            "This is 2 times HELLO\n",
            "This is 3 times HELLO\n",
            "This is 4 times HELLO\n",
            "This is 5 times HELLO\n",
            "This is 6 times HELLO\n",
            "This is 7 times HELLO\n",
            "This is 8 times HELLO\n",
            "This is 9 times HELLO\n",
            "This is 10 times HELLO\n",
            "Finished\n"
          ],
          "name": "stdout"
        }
      ]
    },
    {
      "cell_type": "code",
      "metadata": {
        "id": "UZPWID3dsVqp",
        "colab_type": "code",
        "colab": {
          "base_uri": "https://localhost:8080/",
          "height": 204
        },
        "outputId": "f117b286-56b5-4dbd-9bae-ce1c9f4248c2"
      },
      "source": [
        "# 1 到10之和\n",
        "\n",
        "x=0 #初始值\n",
        "sum = 0 #初始值\n",
        "\n",
        "while x <10 : # 判斷條件\n",
        "    x= x+1 # 更新條件\n",
        "    sum=sum+x # 更新條件\n",
        "    print(\"Sum is\",sum)\n",
        "print(\"Finished\")"
      ],
      "execution_count": 7,
      "outputs": [
        {
          "output_type": "stream",
          "text": [
            "Sum is 1\n",
            "Sum is 3\n",
            "Sum is 6\n",
            "Sum is 10\n",
            "Sum is 15\n",
            "Sum is 21\n",
            "Sum is 28\n",
            "Sum is 36\n",
            "Sum is 45\n",
            "Sum is 55\n",
            "Finished\n"
          ],
          "name": "stdout"
        }
      ]
    },
    {
      "cell_type": "code",
      "metadata": {
        "id": "dOo8Kx7mwO_1",
        "colab_type": "code",
        "colab": {
          "base_uri": "https://localhost:8080/",
          "height": 204
        },
        "outputId": "137c45bb-63e1-42db-9865-b08d2246c658"
      },
      "source": [
        "#1到10之和大於50\n",
        "\n",
        "x=0 #初始值\n",
        "sum = 0 #初始值\n",
        "\n",
        "while sum  <=10 : # 判斷條件\n",
        "    x= x+1 # 更新條件\n",
        "    sum=sum+x # 更新條件\n",
        "    print(\"X is\",x)\n",
        "    print(\"Sum is\",sum)\n",
        "print(\"Finished\")"
      ],
      "execution_count": 8,
      "outputs": [
        {
          "output_type": "stream",
          "text": [
            "X is 1\n",
            "Sum is 1\n",
            "X is 2\n",
            "Sum is 3\n",
            "X is 3\n",
            "Sum is 6\n",
            "X is 4\n",
            "Sum is 10\n",
            "X is 5\n",
            "Sum is 15\n",
            "Finished\n"
          ],
          "name": "stdout"
        }
      ]
    },
    {
      "cell_type": "code",
      "metadata": {
        "id": "05QASSTFyaFx",
        "colab_type": "code",
        "colab": {
          "base_uri": "https://localhost:8080/",
          "height": 34
        },
        "outputId": "ee2f2d45-b0dd-4bee-b7d7-658281721b28"
      },
      "source": [
        "#1到9奇數之和\n",
        "\n",
        "sum=0 #初始值\n",
        "x=1 #初始值\n",
        "\n",
        "while x<11: #判斷條件\n",
        "    sum=sum+x #更新條件\n",
        "    x=x+2 #更新條件\n",
        "\n",
        "print(\"1+3+5+7+9\",sum) #最後結果"
      ],
      "execution_count": 9,
      "outputs": [
        {
          "output_type": "stream",
          "text": [
            "1+3+5+7+9 25\n"
          ],
          "name": "stdout"
        }
      ]
    },
    {
      "cell_type": "code",
      "metadata": {
        "id": "94AYkVcH1K6q",
        "colab_type": "code",
        "colab": {
          "base_uri": "https://localhost:8080/",
          "height": 34
        },
        "outputId": "5d4dd197-3484-45d3-9e2e-af5f66d459b9"
      },
      "source": [
        "#求大於1000最小平方和的x\n",
        "\n",
        "sum=0 #初始值\n",
        "i=0 #初始值\n",
        "\n",
        "while sum <=1000:\n",
        "   i +=1\n",
        "   sum +=i*i\n",
        "print(\"最小的值為\",i)"
      ],
      "execution_count": 10,
      "outputs": [
        {
          "output_type": "stream",
          "text": [
            "最小的值為 14\n"
          ],
          "name": "stdout"
        }
      ]
    },
    {
      "cell_type": "code",
      "metadata": {
        "id": "ypYcxk3L2ed0",
        "colab_type": "code",
        "colab": {}
      },
      "source": [
        ""
      ],
      "execution_count": 0,
      "outputs": []
    }
  ]
}