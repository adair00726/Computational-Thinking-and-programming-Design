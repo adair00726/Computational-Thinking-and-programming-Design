{
  "nbformat": 4,
  "nbformat_minor": 0,
  "metadata": {
    "colab": {
      "name": "Week67-A108260096-陳孝恩.ipynb",
      "provenance": [],
      "collapsed_sections": []
    },
    "kernelspec": {
      "name": "python3",
      "display_name": "Python 3"
    }
  },
  "cells": [
    {
      "cell_type": "code",
      "metadata": {
        "id": "rCuwRToyODGK",
        "colab_type": "code",
        "outputId": "85784612-1a92-44aa-d2b2-a81447adb847",
        "colab": {
          "base_uri": "https://localhost:8080/",
          "height": 102
        }
      },
      "source": [
        "player=\"Ron Harper\"\n",
        "player_list=[\"Ron Harper\", \"Michael Jordan\", \"Scottie Pippen\", \"Dennis Rodman\", \"Luc Longley\"]\n",
        "player_tuple=tuple(player_list)\n",
        "player_dict={\"PG\": \"Ron Harper\",\"SG\": \"Michael Jordan\",\"SF\": \"Scottie Pippen\",\n",
        "            \"PF\": \"Dennis Rodman\", \"C\": \"Luc Longley\"}\n",
        "player_set=set(player_list)\n",
        "             \n",
        "print(type(player))\n",
        "print(type(player_list))\n",
        "print(type(player_tuple))\n",
        "print(type(player_dict))\n",
        "print(type(player_set))             "
      ],
      "execution_count": 0,
      "outputs": [
        {
          "output_type": "stream",
          "text": [
            "<class 'str'>\n",
            "<class 'list'>\n",
            "<class 'tuple'>\n",
            "<class 'dict'>\n",
            "<class 'set'>\n"
          ],
          "name": "stdout"
        }
      ]
    },
    {
      "cell_type": "code",
      "metadata": {
        "id": "sYPcjeLtTu77",
        "colab_type": "code",
        "outputId": "73564d09-dec6-47ae-ed68-b93dc86d83cb",
        "colab": {
          "base_uri": "https://localhost:8080/",
          "height": 34
        }
      },
      "source": [
        "s1='春眠不覺曉,處處聞啼鳥。'\n",
        "print(s1)"
      ],
      "execution_count": 0,
      "outputs": [
        {
          "output_type": "stream",
          "text": [
            "春眠不覺曉,處處聞啼鳥。\n"
          ],
          "name": "stdout"
        }
      ]
    },
    {
      "cell_type": "code",
      "metadata": {
        "id": "GUWU9w15WG4K",
        "colab_type": "code",
        "outputId": "2fd05bc6-5a52-424d-a38b-670ba3afc043",
        "colab": {
          "base_uri": "https://localhost:8080/",
          "height": 34
        }
      },
      "source": [
        "s2=\"夜來風雨聲,花落知多少。\"\n",
        "print(s2)"
      ],
      "execution_count": 0,
      "outputs": [
        {
          "output_type": "stream",
          "text": [
            "夜來風雨聲,花落知多少。\n"
          ],
          "name": "stdout"
        }
      ]
    },
    {
      "cell_type": "code",
      "metadata": {
        "id": "uy7JWrVDWucI",
        "colab_type": "code",
        "outputId": "e3a4dd47-9593-47f1-f045-d5bf4c619fdb",
        "colab": {
          "base_uri": "https://localhost:8080/",
          "height": 51
        }
      },
      "source": [
        "s3='作者\"孟浩然\" 詩名\"春曉\"'\n",
        "print(s3)\n",
        "\n",
        "s4=\"作者'孟浩然' 詩名'春曉'\"\n",
        "print(s4)"
      ],
      "execution_count": 0,
      "outputs": [
        {
          "output_type": "stream",
          "text": [
            "作者\"孟浩然\" 詩名\"春曉\"\n",
            "作者'孟浩然' 詩名'春曉'\n"
          ],
          "name": "stdout"
        }
      ]
    },
    {
      "cell_type": "code",
      "metadata": {
        "id": "nbEAlGZhXgkR",
        "colab_type": "code",
        "outputId": "c7276c06-6df0-4d48-d7be-de844fca1fa4",
        "colab": {
          "base_uri": "https://localhost:8080/",
          "height": 85
        }
      },
      "source": [
        "s5='''   春眠不覺曉，處處聞啼鳥。\n",
        "   夜來風雨聲，花落知多少。\n",
        "   作者\"孟浩然\" 詩名\"春曉\"\n",
        "'''\n",
        "print(s5)"
      ],
      "execution_count": 0,
      "outputs": [
        {
          "output_type": "stream",
          "text": [
            "   春眠不覺曉，處處聞啼鳥。\n",
            "   夜來風雨聲，花落知多少。\n",
            "   作者\"孟浩然\" 詩名\"春曉\"\n",
            "\n"
          ],
          "name": "stdout"
        }
      ]
    },
    {
      "cell_type": "code",
      "metadata": {
        "id": "g2RccIePZAVG",
        "colab_type": "code",
        "outputId": "d802e50c-3fb9-487f-990e-662e3ece7cf3",
        "colab": {
          "base_uri": "https://localhost:8080/",
          "height": 34
        }
      },
      "source": [
        "s1=\"123\"\n",
        "s2=\"456\"\n",
        "\n",
        "s3=s1+s2\n",
        "print(s3)"
      ],
      "execution_count": 0,
      "outputs": [
        {
          "output_type": "stream",
          "text": [
            "123456\n"
          ],
          "name": "stdout"
        }
      ]
    },
    {
      "cell_type": "code",
      "metadata": {
        "id": "gk6d-iJXZWxz",
        "colab_type": "code",
        "outputId": "909ed82a-a921-4162-fa0e-3c63c6f49817",
        "colab": {
          "base_uri": "https://localhost:8080/",
          "height": 34
        }
      },
      "source": [
        "s4=s1*2\n",
        "print(s4)"
      ],
      "execution_count": 0,
      "outputs": [
        {
          "output_type": "stream",
          "text": [
            "123123\n"
          ],
          "name": "stdout"
        }
      ]
    },
    {
      "cell_type": "code",
      "metadata": {
        "id": "5zU9ABIGZe3Y",
        "colab_type": "code",
        "outputId": "f978f7c8-1aff-469e-aaf4-94cacff400d5",
        "colab": {
          "base_uri": "https://localhost:8080/",
          "height": 68
        }
      },
      "source": [
        "s5='春眠不覺曉，處處聞啼鳥。\\n\\\n",
        "夜來風雨聲，花落知多少。\\n\\\n",
        "\\t作者\"孟浩然\" 詩名\"春曉\"'\n",
        "print(s5)"
      ],
      "execution_count": 0,
      "outputs": [
        {
          "output_type": "stream",
          "text": [
            "春眠不覺曉，處處聞啼鳥。\n",
            "夜來風雨聲，花落知多少。\n",
            "\t作者\"孟浩然\" 詩名\"春曉\"\n"
          ],
          "name": "stdout"
        }
      ]
    },
    {
      "cell_type": "code",
      "metadata": {
        "id": "xzjxox3YaD9X",
        "colab_type": "code",
        "outputId": "86dd1731-5bb8-47a4-9c6d-591a39a30692",
        "colab": {
          "base_uri": "https://localhost:8080/",
          "height": 85
        }
      },
      "source": [
        "s='0123456789'\n",
        "print(s[0])\n",
        "print('s[1]',s[1])\n",
        "print(s[-1])\n",
        "print('s[-2]=',s[-2])"
      ],
      "execution_count": 0,
      "outputs": [
        {
          "output_type": "stream",
          "text": [
            "0\n",
            "s[1] 1\n",
            "9\n",
            "s[-2]= 8\n"
          ],
          "name": "stdout"
        }
      ]
    },
    {
      "cell_type": "code",
      "metadata": {
        "id": "N9REcs2hajMv",
        "colab_type": "code",
        "outputId": "56b53fa8-75c7-40b5-a599-5ba4269cc20c",
        "colab": {
          "base_uri": "https://localhost:8080/",
          "height": 204
        }
      },
      "source": [
        "s='0123456789'\n",
        "\n",
        "print('s=',s,'s[:]=',s[:])\n",
        "print('s=',s,'s[5:]=',s[5:])\n",
        "print('s=',s,'s[-2:]=',s[-2:])\n",
        "print('s=',s,'s[:5]=',s[:5])\n",
        "print('s=',s,'s[:-2]=',s[:-2])\n",
        "\n",
        "print('s=',s,'s[7:9]=',s[7:9])\n",
        "print('s=',s,'s[-4:-1]=',s[-4:-1])\n",
        "print('s=',s,'s[5:-2]=',s[5:-2])\n",
        "print('s=',s,'s[2:10:2]=',s[2:10:2])\n",
        "print('s=',s,'s[::-1]=',s[::-1])\n",
        "print('s=',s,'s[-1::-1]=',s[-1::-1])"
      ],
      "execution_count": 0,
      "outputs": [
        {
          "output_type": "stream",
          "text": [
            "s= 0123456789 s[:]= 0123456789\n",
            "s= 0123456789 s[5:]= 56789\n",
            "s= 0123456789 s[-2:]= 89\n",
            "s= 0123456789 s[:5]= 01234\n",
            "s= 0123456789 s[:-2]= 01234567\n",
            "s= 0123456789 s[7:9]= 78\n",
            "s= 0123456789 s[-4:-1]= 678\n",
            "s= 0123456789 s[5:-2]= 567\n",
            "s= 0123456789 s[2:10:2]= 2468\n",
            "s= 0123456789 s[::-1]= 9876543210\n",
            "s= 0123456789 s[-1::-1]= 9876543210\n"
          ],
          "name": "stdout"
        }
      ]
    },
    {
      "cell_type": "code",
      "metadata": {
        "id": "jcdrMhsPd5dq",
        "colab_type": "code",
        "outputId": "c86a98c6-ba9a-418b-8e3e-8a505c7cc334",
        "colab": {
          "base_uri": "https://localhost:8080/",
          "height": 34
        }
      },
      "source": [
        "s='春眠不覺曉，處處聞啼鳥，夜來風雨聲，花落知多少。'\n",
        "\n",
        "list1=s.split(',')\n",
        "print(list1)"
      ],
      "execution_count": 0,
      "outputs": [
        {
          "output_type": "stream",
          "text": [
            "['春眠不覺曉，處處聞啼鳥，夜來風雨聲，花落知多少。']\n"
          ],
          "name": "stdout"
        }
      ]
    },
    {
      "cell_type": "code",
      "metadata": {
        "id": "Fq-Qt34CeXfH",
        "colab_type": "code",
        "outputId": "388d8b4f-8d68-4f44-eaaa-997977a53cb5",
        "colab": {
          "base_uri": "https://localhost:8080/",
          "height": 34
        }
      },
      "source": [
        "list1=['春眠不覺曉，處處聞啼鳥，夜來風雨聲，花落知多少。']\n",
        "\n",
        "s2=','.join(list1)\n",
        "print(s2)"
      ],
      "execution_count": 0,
      "outputs": [
        {
          "output_type": "stream",
          "text": [
            "春眠不覺曉，處處聞啼鳥，夜來風雨聲，花落知多少。\n"
          ],
          "name": "stdout"
        }
      ]
    },
    {
      "cell_type": "code",
      "metadata": {
        "id": "-uOUoj02fFbU",
        "colab_type": "code",
        "outputId": "0b1a29a5-19db-4499-ff59-f49d705242a8",
        "colab": {
          "base_uri": "https://localhost:8080/",
          "height": 34
        }
      },
      "source": [
        "s1='春眠不覺曉，處處聞啼鳥，夜來風雨聲，花落知多少。'\n",
        "\n",
        "print(s1.find('花落'))"
      ],
      "execution_count": 0,
      "outputs": [
        {
          "output_type": "stream",
          "text": [
            "18\n"
          ],
          "name": "stdout"
        }
      ]
    },
    {
      "cell_type": "code",
      "metadata": {
        "id": "tZdyVoOJ7RRC",
        "colab_type": "code",
        "outputId": "a04c74ba-7944-4cc1-f0c9-259efa7d5354",
        "colab": {
          "base_uri": "https://localhost:8080/",
          "height": 34
        }
      },
      "source": [
        "s1='春眠不覺曉，處處聞啼鳥，夜來風雨聲，花落知多少。'\n",
        "\n",
        "print(s1.count('處'))"
      ],
      "execution_count": 0,
      "outputs": [
        {
          "output_type": "stream",
          "text": [
            "2\n"
          ],
          "name": "stdout"
        }
      ]
    },
    {
      "cell_type": "code",
      "metadata": {
        "id": "eKhCJpVM7fEo",
        "colab_type": "code",
        "outputId": "41b8791f-f827-46bf-88ec-73ec348edd24",
        "colab": {
          "base_uri": "https://localhost:8080/",
          "height": 34
        }
      },
      "source": [
        "s1='春眠不覺曉，處處聞啼鳥，夜來風雨聲，花落知多少。'\n",
        "\n",
        "s3=s1.replace('春','冬')\n",
        "print(s3)"
      ],
      "execution_count": 0,
      "outputs": [
        {
          "output_type": "stream",
          "text": [
            "冬眠不覺曉，處處聞啼鳥，夜來風雨聲，花落知多少。\n"
          ],
          "name": "stdout"
        }
      ]
    },
    {
      "cell_type": "code",
      "metadata": {
        "id": "8EvNV2xF7xpU",
        "colab_type": "code",
        "outputId": "5f7feabd-73a9-4558-b953-654c25b5a43e",
        "colab": {
          "base_uri": "https://localhost:8080/",
          "height": 34
        }
      },
      "source": [
        "s1='An apple a day.'\n",
        "\n",
        "print(s1.capitalize())"
      ],
      "execution_count": 0,
      "outputs": [
        {
          "output_type": "stream",
          "text": [
            "An apple a day.\n"
          ],
          "name": "stdout"
        }
      ]
    },
    {
      "cell_type": "code",
      "metadata": {
        "id": "-1jXLQeS8Bl2",
        "colab_type": "code",
        "outputId": "d467f692-7fb0-429f-c0a8-b3ff7339c701",
        "colab": {
          "base_uri": "https://localhost:8080/",
          "height": 34
        }
      },
      "source": [
        "s1='An apple a day.'\n",
        "\n",
        "print(s1.title())"
      ],
      "execution_count": 0,
      "outputs": [
        {
          "output_type": "stream",
          "text": [
            "An Apple A Day.\n"
          ],
          "name": "stdout"
        }
      ]
    },
    {
      "cell_type": "code",
      "metadata": {
        "id": "ntchnea38t7S",
        "colab_type": "code",
        "outputId": "734762da-6e7d-4a09-bfaf-9f0e4c6245c1",
        "colab": {
          "base_uri": "https://localhost:8080/",
          "height": 34
        }
      },
      "source": [
        "s1='An apple a day.'\n",
        "\n",
        "print(s1.swapcase())"
      ],
      "execution_count": 0,
      "outputs": [
        {
          "output_type": "stream",
          "text": [
            "aN APPLE A DAY.\n"
          ],
          "name": "stdout"
        }
      ]
    },
    {
      "cell_type": "code",
      "metadata": {
        "id": "58pM0yFT87v0",
        "colab_type": "code",
        "outputId": "fb98cb82-c4c8-4311-996f-ff0cfe5be0a8",
        "colab": {
          "base_uri": "https://localhost:8080/",
          "height": 34
        }
      },
      "source": [
        "s1='An apple a day.'\n",
        "\n",
        "print(s1.upper())"
      ],
      "execution_count": 0,
      "outputs": [
        {
          "output_type": "stream",
          "text": [
            "AN APPLE A DAY.\n"
          ],
          "name": "stdout"
        }
      ]
    },
    {
      "cell_type": "code",
      "metadata": {
        "id": "cQGboOR-9IkC",
        "colab_type": "code",
        "outputId": "ad44c4ed-385b-4d8e-d9de-23c3567b2af0",
        "colab": {
          "base_uri": "https://localhost:8080/",
          "height": 34
        }
      },
      "source": [
        "s1='An apple a day.'\n",
        "\n",
        "print(s1.lower())"
      ],
      "execution_count": 0,
      "outputs": [
        {
          "output_type": "stream",
          "text": [
            "an apple a day.\n"
          ],
          "name": "stdout"
        }
      ]
    },
    {
      "cell_type": "code",
      "metadata": {
        "id": "uoWhVGFm9Uc6",
        "colab_type": "code",
        "outputId": "33a1cedb-0c64-4cd6-aaab-2e1817c742e6",
        "colab": {
          "base_uri": "https://localhost:8080/",
          "height": 84
        }
      },
      "source": [
        "t1=()\n",
        "print(t1)\n",
        "\n",
        "t2=('z', )\n",
        "print(t2)\n",
        "\n",
        "t3=(1,2,3)\n",
        "print(t3)\n",
        "\n",
        "t4=(1,2,3,4)\n",
        "t5=(t4,5,6)\n",
        "print(t5)"
      ],
      "execution_count": 0,
      "outputs": [
        {
          "output_type": "stream",
          "text": [
            "()\n",
            "('z',)\n",
            "(1, 2, 3)\n",
            "((1, 2, 3, 4), 5, 6)\n"
          ],
          "name": "stdout"
        }
      ]
    },
    {
      "cell_type": "code",
      "metadata": {
        "id": "yCB9MpiI-FCD",
        "colab_type": "code",
        "outputId": "b0e2b54a-cbbd-4994-be2c-0886cd5f35ab",
        "colab": {
          "base_uri": "https://localhost:8080/",
          "height": 34
        }
      },
      "source": [
        "list1=[1,2,3,4]\n",
        "t6=tuple(list1)\n",
        "print(t6)"
      ],
      "execution_count": 0,
      "outputs": [
        {
          "output_type": "stream",
          "text": [
            "(1, 2, 3, 4)\n"
          ],
          "name": "stdout"
        }
      ]
    },
    {
      "cell_type": "code",
      "metadata": {
        "id": "ipwgRyAB-WtM",
        "colab_type": "code",
        "outputId": "150beeed-b14d-4938-a96e-01774443a337",
        "colab": {
          "base_uri": "https://localhost:8080/",
          "height": 67
        }
      },
      "source": [
        "t1=(1,2,3,4)\n",
        "t2=(5,6,t2)\n",
        "\n",
        "print(len(t2))\n",
        "print(t2[0])\n",
        "print(t2[2][0])"
      ],
      "execution_count": 0,
      "outputs": [
        {
          "output_type": "stream",
          "text": [
            "3\n",
            "5\n",
            "z\n"
          ],
          "name": "stdout"
        }
      ]
    },
    {
      "cell_type": "code",
      "metadata": {
        "id": "zhBDGxNw-oxO",
        "colab_type": "code",
        "outputId": "009471da-b7aa-44c5-8cbd-23be96c0262e",
        "colab": {
          "base_uri": "https://localhost:8080/",
          "height": 84
        }
      },
      "source": [
        "shoplist=['牛奶','蛋','咖啡豆','西瓜','鳳梨']\n",
        "print('購物清單shoplist為')\n",
        "print(shoplist)\n",
        "\n",
        "listm=[1,2.0,'Python']\n",
        "print(\"串列可以包含各種資料型別的元素\")\n",
        "print(listm)"
      ],
      "execution_count": 0,
      "outputs": [
        {
          "output_type": "stream",
          "text": [
            "購物清單shoplist為\n",
            "['牛奶', '蛋', '咖啡豆', '西瓜', '鳳梨']\n",
            "串列可以包含各種資料型別的元素\n",
            "[1, 2.0, 'Python']\n"
          ],
          "name": "stdout"
        }
      ]
    },
    {
      "cell_type": "code",
      "metadata": {
        "id": "v9N9-VaA_ize",
        "colab_type": "code",
        "outputId": "3a0d2fbd-eee2-44ab-eb63-947392b2cbac",
        "colab": {
          "base_uri": "https://localhost:8080/",
          "height": 34
        }
      },
      "source": [
        "tuple2=('a','b',1,2)\n",
        "list2=list(tuple2)\n",
        "print(list2)"
      ],
      "execution_count": 0,
      "outputs": [
        {
          "output_type": "stream",
          "text": [
            "['a', 'b', 1, 2]\n"
          ],
          "name": "stdout"
        }
      ]
    },
    {
      "cell_type": "code",
      "metadata": {
        "id": "vkJc7oqw_z6M",
        "colab_type": "code",
        "outputId": "190076b8-511b-4b2c-d72f-b2bff507057b",
        "colab": {
          "base_uri": "https://localhost:8080/",
          "height": 34
        }
      },
      "source": [
        "shoplist1=['牛奶','蛋','咖啡豆']\n",
        "shoplist2=['西瓜','鳳梨']\n",
        "shoplist_all=shoplist1+shoplist2\n",
        "print(shoplist_all)"
      ],
      "execution_count": 0,
      "outputs": [
        {
          "output_type": "stream",
          "text": [
            "['牛奶', '蛋', '咖啡豆', '西瓜', '鳳梨']\n"
          ],
          "name": "stdout"
        }
      ]
    },
    {
      "cell_type": "code",
      "metadata": {
        "id": "cDrPXAj9AUcI",
        "colab_type": "code",
        "outputId": "71999c17-9a45-4379-e670-a1f2963e79e3",
        "colab": {
          "base_uri": "https://localhost:8080/",
          "height": 34
        }
      },
      "source": [
        "shoplist=['牛奶','蛋','咖啡豆','西瓜','鳳梨']\n",
        "\n",
        "print('顯示shoplist[0]為',shoplist[0])"
      ],
      "execution_count": 0,
      "outputs": [
        {
          "output_type": "stream",
          "text": [
            "顯示shoplist[0]為 牛奶\n"
          ],
          "name": "stdout"
        }
      ]
    },
    {
      "cell_type": "code",
      "metadata": {
        "id": "nv-gZcp9BJ8j",
        "colab_type": "code",
        "outputId": "0ff933ec-8daa-4d1a-ca92-fc5b3679681c",
        "colab": {
          "base_uri": "https://localhost:8080/",
          "height": 50
        }
      },
      "source": [
        "shoplist=['牛奶','蛋','咖啡豆','西瓜','鳳梨']\n",
        "\n",
        "index=shoplist.index('咖啡豆')\n",
        "print(\"執行index=shoplist.index('咖啡豆')後\")\n",
        "print('index=',index)"
      ],
      "execution_count": 0,
      "outputs": [
        {
          "output_type": "stream",
          "text": [
            "執行index=shoplist.index('咖啡豆')後\n",
            "index= 2\n"
          ],
          "name": "stdout"
        }
      ]
    },
    {
      "cell_type": "code",
      "metadata": {
        "id": "E2AO-qtJBrwC",
        "colab_type": "code",
        "outputId": "0b1ea947-c219-4e40-97d9-e3594cdc0987",
        "colab": {
          "base_uri": "https://localhost:8080/",
          "height": 50
        }
      },
      "source": [
        "shoplist=['牛奶','蛋','咖啡豆','西瓜','鳳梨']\n",
        "\n",
        "shoplist[1]='皮蛋'\n",
        "print(\"執行shoplist[1]='皮蛋'後\")\n",
        "print(shoplist)"
      ],
      "execution_count": 0,
      "outputs": [
        {
          "output_type": "stream",
          "text": [
            "執行shoplist[1]='皮蛋'後\n",
            "['牛奶', '皮蛋', '咖啡豆', '西瓜', '鳳梨']\n"
          ],
          "name": "stdout"
        }
      ]
    },
    {
      "cell_type": "code",
      "metadata": {
        "id": "GDKrz2fgCD29",
        "colab_type": "code",
        "outputId": "036e178e-da37-410f-bb8c-513d00dd0098",
        "colab": {
          "base_uri": "https://localhost:8080/",
          "height": 185
        }
      },
      "source": [
        "shoplist=['牛奶','蛋','咖啡豆','西瓜','鳳梨']\n",
        "\n",
        "a=list('abcdefghijk')\n",
        "print('a[:]為',a[:])\n",
        "print('a[:5]為',a[:5])\n",
        "print('a[5:]為',a[5:])\n",
        "print('a[:-5]為',a[:-5])\n",
        "print('a[-5:]為',a[-5:])\n",
        "\n",
        "print('a[0:4]為',a[0:4])\n",
        "print('a[-5:-3]為',a[-5:-3])\n",
        "\n",
        "print('a[1:10:3]為',a[1:10:3])\n",
        "print('a[-1:-4:-1]為',a[-1:-4:-1])\n",
        "print('a[::-1]為',a[::-1])\n"
      ],
      "execution_count": 0,
      "outputs": [
        {
          "output_type": "stream",
          "text": [
            "a[:]為 ['a', 'b', 'c', 'd', 'e', 'f', 'g', 'h', 'i', 'j', 'k']\n",
            "a[:5]為 ['a', 'b', 'c', 'd', 'e']\n",
            "a[5:]為 ['f', 'g', 'h', 'i', 'j', 'k']\n",
            "a[:-5]為 ['a', 'b', 'c', 'd', 'e', 'f']\n",
            "a[-5:]為 ['g', 'h', 'i', 'j', 'k']\n",
            "a[0:4]為 ['a', 'b', 'c', 'd']\n",
            "a[-5:-3]為 ['g', 'h']\n",
            "a[1:10:3]為 ['b', 'e', 'h']\n",
            "a[-1:-4:-1]為 ['k', 'j', 'i']\n",
            "a[::-1]為 ['k', 'j', 'i', 'h', 'g', 'f', 'e', 'd', 'c', 'b', 'a']\n"
          ],
          "name": "stdout"
        }
      ]
    },
    {
      "cell_type": "code",
      "metadata": {
        "id": "Ue1dvN-8EB3A",
        "colab_type": "code",
        "outputId": "882e21fb-6b72-4af6-9d91-5061aace40f0",
        "colab": {
          "base_uri": "https://localhost:8080/",
          "height": 34
        }
      },
      "source": [
        "shoplist=['牛奶','蛋','咖啡豆','西瓜','鳳梨']\n",
        "print('購物清單shoplist的長度為',len(shoplist))"
      ],
      "execution_count": 0,
      "outputs": [
        {
          "output_type": "stream",
          "text": [
            "購物清單shoplist的長度為 5\n"
          ],
          "name": "stdout"
        }
      ]
    },
    {
      "cell_type": "code",
      "metadata": {
        "id": "LnT7wKsxNIFu",
        "colab_type": "code",
        "outputId": "840c680e-6bfb-41ff-c8e0-0c8d368ea50c",
        "colab": {
          "base_uri": "https://localhost:8080/",
          "height": 50
        }
      },
      "source": [
        "shoplist=['牛奶','蛋','咖啡豆','西瓜','鳳梨']\n",
        "\n",
        "shoplist.append('麵包')\n",
        "print(\"執行shoplist.append('麵包')後\")\n",
        "print(shoplist)"
      ],
      "execution_count": 0,
      "outputs": [
        {
          "output_type": "stream",
          "text": [
            "執行shoplist.append('麵包')後\n",
            "['牛奶', '蛋', '咖啡豆', '西瓜', '鳳梨', '麵包']\n"
          ],
          "name": "stdout"
        }
      ]
    },
    {
      "cell_type": "code",
      "metadata": {
        "id": "8OniV5FsN5gP",
        "colab_type": "code",
        "outputId": "0d27fcc5-ab1e-4bc6-c974-fc8671cb4c72",
        "colab": {
          "base_uri": "https://localhost:8080/",
          "height": 50
        }
      },
      "source": [
        "shoplist=['牛奶','蛋','咖啡豆','西瓜','鳳梨']\n",
        "\n",
        "shoplist.insert(4,'蘋果')\n",
        "print(\"執行shoplist.insert(4,'蘋果')後\")\n",
        "print(shoplist)"
      ],
      "execution_count": 0,
      "outputs": [
        {
          "output_type": "stream",
          "text": [
            "執行shoplist.insert(4,'蘋果')後\n",
            "['牛奶', '蛋', '咖啡豆', '西瓜', '蘋果', '鳳梨']\n"
          ],
          "name": "stdout"
        }
      ]
    },
    {
      "cell_type": "code",
      "metadata": {
        "id": "qEPpgalmOcB7",
        "colab_type": "code",
        "outputId": "abd71cf2-9c2e-4e81-995e-1a80c2f9180b",
        "colab": {
          "base_uri": "https://localhost:8080/",
          "height": 50
        }
      },
      "source": [
        "shoplist=['牛奶','蛋','咖啡豆','西瓜','鳳梨']\n",
        "\n",
        "shoplist.remove('蛋')\n",
        "print(\"執行shoplist.remove('蛋')後\")\n",
        "print(shoplist)"
      ],
      "execution_count": 0,
      "outputs": [
        {
          "output_type": "stream",
          "text": [
            "執行shoplist.remove('蛋')後\n",
            "['牛奶', '咖啡豆', '西瓜', '鳳梨']\n"
          ],
          "name": "stdout"
        }
      ]
    },
    {
      "cell_type": "code",
      "metadata": {
        "id": "nSi53LqLO2fc",
        "colab_type": "code",
        "outputId": "fae64778-e218-4147-ca48-34d9256b29c7",
        "colab": {
          "base_uri": "https://localhost:8080/",
          "height": 118
        }
      },
      "source": [
        "shoplist=['牛奶','蛋','咖啡豆','西瓜','鳳梨']\n",
        "\n",
        "shoplist.pop(0)\n",
        "print(\"執行shoplist.pop(0)後\")\n",
        "print(shoplist)\n",
        "\n",
        "shoplist.pop()\n",
        "print(\"執行shoplist.pop()後\")\n",
        "print(shoplist)\n",
        "\n",
        "shoplist.pop(-1)\n",
        "print(\"執行shoplist.pop(-1)後\")\n",
        "print(shoplist)"
      ],
      "execution_count": 0,
      "outputs": [
        {
          "output_type": "stream",
          "text": [
            "執行shoplist.pop(0)後\n",
            "['蛋', '咖啡豆', '西瓜', '鳳梨']\n",
            "執行shoplist.pop()後\n",
            "['蛋', '咖啡豆', '西瓜']\n",
            "執行shoplist.pop(-1)後\n",
            "['蛋', '咖啡豆']\n"
          ],
          "name": "stdout"
        }
      ]
    },
    {
      "cell_type": "code",
      "metadata": {
        "id": "v23ggK0bPdX-",
        "colab_type": "code",
        "outputId": "2d9920bf-55f5-43da-cb3d-d1f84200ec0e",
        "colab": {
          "base_uri": "https://localhost:8080/",
          "height": 50
        }
      },
      "source": [
        "shoplist=['牛奶','蛋','咖啡豆','西瓜','鳳梨']\n",
        "\n",
        "del shoplist[0]\n",
        "print(\"執行del shoplist[0]後\")\n",
        "print(shoplist)"
      ],
      "execution_count": 0,
      "outputs": [
        {
          "output_type": "stream",
          "text": [
            "執行del shoplist[0]後\n",
            "['蛋', '咖啡豆', '西瓜', '鳳梨']\n"
          ],
          "name": "stdout"
        }
      ]
    },
    {
      "cell_type": "code",
      "metadata": {
        "id": "qI8XRwZQPzGx",
        "colab_type": "code",
        "outputId": "db7a7885-d4cb-4bb7-c819-5ff277d20009",
        "colab": {
          "base_uri": "https://localhost:8080/",
          "height": 118
        }
      },
      "source": [
        "shoplist=['牛奶','蛋','咖啡豆','西瓜','鳳梨']\n",
        "\n",
        "shoplist.sort()\n",
        "print(\"執行 shoplist.sort()後\")\n",
        "print(shoplist)\n",
        "\n",
        "shoplist=['milk','egg','coffee','watermelon']\n",
        "shoplist.sort()\n",
        "print(\"執行shoplist.sort()後\")\n",
        "print(shoplist)\n",
        "\n",
        "shoplist.sort(reverse=True)\n",
        "print(\"執行shoplist.sort(reverse=True)後\")\n",
        "print(shoplist)"
      ],
      "execution_count": 0,
      "outputs": [
        {
          "output_type": "stream",
          "text": [
            "執行 shoplist.sort()後\n",
            "['咖啡豆', '牛奶', '蛋', '西瓜', '鳳梨']\n",
            "執行shoplist.sort()後\n",
            "['coffee', 'egg', 'milk', 'watermelon']\n",
            "執行shoplist.sort(reverse=True)後\n",
            "['watermelon', 'milk', 'egg', 'coffee']\n"
          ],
          "name": "stdout"
        }
      ]
    },
    {
      "cell_type": "code",
      "metadata": {
        "id": "kDXpspEeRBHy",
        "colab_type": "code",
        "outputId": "e4110ad9-4f00-4ab5-ce99-a2c1f17516f4",
        "colab": {
          "base_uri": "https://localhost:8080/",
          "height": 118
        }
      },
      "source": [
        "list1=[1,2,3,4]\n",
        "list2=list1\n",
        "print('list1=',list1)\n",
        "print('list2=',list2)\n",
        "\n",
        "list1[2]=19\n",
        "print('list1=',list1)\n",
        "print('list2=',list2)\n",
        "\n",
        "list2[2]=18\n",
        "print('list1=',list1)\n",
        "print('list2=',list2)"
      ],
      "execution_count": 0,
      "outputs": [
        {
          "output_type": "stream",
          "text": [
            "list1= [1, 2, 3, 4]\n",
            "list2= [1, 2, 3, 4]\n",
            "list1= [1, 2, 19, 4]\n",
            "list2= [1, 2, 19, 4]\n",
            "list1= [1, 2, 18, 4]\n",
            "list2= [1, 2, 18, 4]\n"
          ],
          "name": "stdout"
        }
      ]
    },
    {
      "cell_type": "code",
      "metadata": {
        "id": "LVzMoVfHRvME",
        "colab_type": "code",
        "outputId": "9f1445d5-b59f-4bd8-ce67-686c83b5e011",
        "colab": {
          "base_uri": "https://localhost:8080/",
          "height": 84
        }
      },
      "source": [
        "list1=[1,2,3,4]\n",
        "list4=list1.copy()\n",
        "print('list1=',list1)\n",
        "print('list4=',list4)\n",
        "\n",
        "list4[2]=19\n",
        "print('list1=',list1)\n",
        "print('list4=',list4)"
      ],
      "execution_count": 0,
      "outputs": [
        {
          "output_type": "stream",
          "text": [
            "list1= [1, 2, 3, 4]\n",
            "list4= [1, 2, 3, 4]\n",
            "list1= [1, 2, 3, 4]\n",
            "list4= [1, 2, 19, 4]\n"
          ],
          "name": "stdout"
        }
      ]
    },
    {
      "cell_type": "code",
      "metadata": {
        "id": "QUYfQ1kaSc2a",
        "colab_type": "code",
        "outputId": "5668bcb5-6903-410b-f971-b68d36f37dd5",
        "colab": {
          "base_uri": "https://localhost:8080/",
          "height": 383
        }
      },
      "source": [
        "season=\"1995-1996\"\n",
        "team=\"Chicago Bulls\"\n",
        "coach=\"Phil Jackson\"\n",
        "\n",
        "won_championship=True\n",
        "\n",
        "records=[72,10]\n",
        "starting_lineup=[\"Ron Harper\",\"Michael Jordan\",\"Scottie Pippen\",\"Dennis Rodman\",\"Luc Longley\"]\n",
        "\n",
        "best_chicago_bulls=[season,team,won_championship,records,starting_lineup]\n",
        "print(best_chicago_bulls)\n",
        "print(type(best_chicago_bulls))\n",
        "\n",
        "print(len(best_chicago_bulls))\n",
        "\n",
        "print(best_chicago_bulls[0])\n",
        "print(best_chicago_bulls[1])\n",
        "print(best_chicago_bulls[2])\n",
        "print(best_chicago_bulls[3])\n",
        "print(best_chicago_bulls[4])\n",
        "print(best_chicago_bulls[5])\n",
        "\n",
        "print(best_chicago_bulls[-1])\n",
        "print(best_chicago_bulls[-2])\n",
        "print(best_chicago_bulls[-3])\n",
        "print(best_chicago_bulls[-4])\n",
        "print(best_chicago_bulls[-5])\n",
        "print(best_chicago_bulls[-6])\n",
        "\n",
        "print(best_chicago_bulls[0:3])\n",
        "print(best_chicago_bulls[::2])\n",
        "print(best_chicago_bulls[::-1])\n",
        "\n",
        "best_chicago_bulls[5].append(\"Toni Kukoc\")\n",
        "print(best_chicago_bulls[5])\n",
        "\n",
        "best_chicago_bulls[5].insert(6,\"Toni Kukoc\")\n",
        "print(best_chicago_bulls[5])\n",
        "\n",
        "center=best_chicago_bulls[5].pop()\n",
        "print(center)\n",
        "print(best_chicago_bulls[5])\n",
        "\n",
        "best_chicago_bulls=[season,team,won_championship,records,starting_lineup]\n",
        "\n",
        "del best_chicago_bulls[5][0]\n",
        "print(best_chicago_bulls[5])\n",
        "\n",
        "best_chicago_bulls=[season,team,won_championship,records,starting_lineup]\n",
        "\n",
        "best_chicago_bulls[4].sort()\n",
        "print(best_chicago_bulls[4])\n",
        "\n",
        "best_chicago_bulls[4].sort(reverse=True)\n",
        "print(best_chicago_bulls[4])\n",
        "\n",
        "best_chicago_bulls[5].sort()\n",
        "print(best_chicago_bulls[5])\n",
        "\n",
        "best_chicago_bulls[5].sort(reverse=True)\n",
        "print(best_chicago_bulls[5])"
      ],
      "execution_count": 0,
      "outputs": [
        {
          "output_type": "stream",
          "text": [
            "['1995-1996', 'Chicago Bulls', True, [72, 10], ['Ron Harper', 'Michael Jordan', 'Scottie Pippen', 'Dennis Rodman', 'Luc Longley']]\n",
            "<class 'list'>\n",
            "5\n",
            "1995-1996\n",
            "Chicago Bulls\n",
            "True\n",
            "[72, 10]\n",
            "['Ron Harper', 'Michael Jordan', 'Scottie Pippen', 'Dennis Rodman', 'Luc Longley']\n"
          ],
          "name": "stdout"
        },
        {
          "output_type": "error",
          "ename": "IndexError",
          "evalue": "ignored",
          "traceback": [
            "\u001b[0;31m---------------------------------------------------------------------------\u001b[0m",
            "\u001b[0;31mIndexError\u001b[0m                                Traceback (most recent call last)",
            "\u001b[0;32m<ipython-input-18-737f5298f571>\u001b[0m in \u001b[0;36m<module>\u001b[0;34m()\u001b[0m\n\u001b[1;32m     19\u001b[0m \u001b[0mprint\u001b[0m\u001b[0;34m(\u001b[0m\u001b[0mbest_chicago_bulls\u001b[0m\u001b[0;34m[\u001b[0m\u001b[0;36m3\u001b[0m\u001b[0;34m]\u001b[0m\u001b[0;34m)\u001b[0m\u001b[0;34m\u001b[0m\u001b[0;34m\u001b[0m\u001b[0m\n\u001b[1;32m     20\u001b[0m \u001b[0mprint\u001b[0m\u001b[0;34m(\u001b[0m\u001b[0mbest_chicago_bulls\u001b[0m\u001b[0;34m[\u001b[0m\u001b[0;36m4\u001b[0m\u001b[0;34m]\u001b[0m\u001b[0;34m)\u001b[0m\u001b[0;34m\u001b[0m\u001b[0;34m\u001b[0m\u001b[0m\n\u001b[0;32m---> 21\u001b[0;31m \u001b[0mprint\u001b[0m\u001b[0;34m(\u001b[0m\u001b[0mbest_chicago_bulls\u001b[0m\u001b[0;34m[\u001b[0m\u001b[0;36m5\u001b[0m\u001b[0;34m]\u001b[0m\u001b[0;34m)\u001b[0m\u001b[0;34m\u001b[0m\u001b[0;34m\u001b[0m\u001b[0m\n\u001b[0m\u001b[1;32m     22\u001b[0m \u001b[0;34m\u001b[0m\u001b[0m\n\u001b[1;32m     23\u001b[0m \u001b[0mprint\u001b[0m\u001b[0;34m(\u001b[0m\u001b[0mbest_chicago_bulls\u001b[0m\u001b[0;34m[\u001b[0m\u001b[0;34m-\u001b[0m\u001b[0;36m1\u001b[0m\u001b[0;34m]\u001b[0m\u001b[0;34m)\u001b[0m\u001b[0;34m\u001b[0m\u001b[0;34m\u001b[0m\u001b[0m\n",
            "\u001b[0;31mIndexError\u001b[0m: list index out of range"
          ]
        }
      ]
    },
    {
      "cell_type": "code",
      "metadata": {
        "id": "BYJfwAjmXj1P",
        "colab_type": "code",
        "outputId": "a73e133f-4b80-42df-af3b-f4c76086573a",
        "colab": {
          "base_uri": "https://localhost:8080/",
          "height": 50
        }
      },
      "source": [
        "dict1={}\n",
        "print(dict1)\n",
        "\n",
        "lang={'早安':'Good Morning','你好':'Hello'}\n",
        "print(lang)"
      ],
      "execution_count": 0,
      "outputs": [
        {
          "output_type": "stream",
          "text": [
            "{}\n",
            "{'早安': 'Good Morning', '你好': 'Hello'}\n"
          ],
          "name": "stdout"
        }
      ]
    },
    {
      "cell_type": "code",
      "metadata": {
        "id": "D_PSMcEydD9b",
        "colab_type": "code",
        "outputId": "56242358-053f-4eaa-8a74-92f3ec7df3a2",
        "colab": {
          "base_uri": "https://localhost:8080/",
          "height": 84
        }
      },
      "source": [
        "a=[['早安','Good Morning'],['你好','Hello']]\n",
        "dict1=dict(a)\n",
        "print(dict1)\n",
        "\n",
        "b=[('早安','Good Morning'),('你好','Hello')]\n",
        "dict2=dict(b)\n",
        "print(dict2)\n",
        "\n",
        "c=(['早安','Good Morning'],['你好','Hello'])\n",
        "dict3=dict(c)\n",
        "print(dict3)\n",
        "\n",
        "d=(('早安','Good Morning'),('你好','Hello'))\n",
        "dict4=dict(d)\n",
        "print(dict4)"
      ],
      "execution_count": 0,
      "outputs": [
        {
          "output_type": "stream",
          "text": [
            "{'早安': 'Good Morning', '你好': 'Hello'}\n",
            "{'早安': 'Good Morning', '你好': 'Hello'}\n",
            "{'早安': 'Good Morning', '你好': 'Hello'}\n",
            "{'早安': 'Good Morning', '你好': 'Hello'}\n"
          ],
          "name": "stdout"
        }
      ]
    },
    {
      "cell_type": "code",
      "metadata": {
        "id": "BHzNMWBxehUw",
        "colab_type": "code",
        "outputId": "38109b37-2065-42d8-a159-32fee7592f20",
        "colab": {
          "base_uri": "https://localhost:8080/",
          "height": 34
        }
      },
      "source": [
        "lang={'早安':'Good Morning','你好':'Hello'}\n",
        "\n",
        "print('「你好」的英文為',lang['你好'])"
      ],
      "execution_count": 0,
      "outputs": [
        {
          "output_type": "stream",
          "text": [
            "「你好」的英文為 Hello\n"
          ],
          "name": "stdout"
        }
      ]
    },
    {
      "cell_type": "code",
      "metadata": {
        "id": "xuFLHQ5Ai6Cg",
        "colab_type": "code",
        "outputId": "920b75a6-6904-4528-f115-ae983686f22e",
        "colab": {
          "base_uri": "https://localhost:8080/",
          "height": 162
        }
      },
      "source": [
        "print('「你好嗎」的英文為',lang['你好嗎'])"
      ],
      "execution_count": 0,
      "outputs": [
        {
          "output_type": "error",
          "ename": "KeyError",
          "evalue": "ignored",
          "traceback": [
            "\u001b[0;31m---------------------------------------------------------------------------\u001b[0m",
            "\u001b[0;31mKeyError\u001b[0m                                  Traceback (most recent call last)",
            "\u001b[0;32m<ipython-input-24-b70232786b87>\u001b[0m in \u001b[0;36m<module>\u001b[0;34m()\u001b[0m\n\u001b[0;32m----> 1\u001b[0;31m \u001b[0mprint\u001b[0m\u001b[0;34m(\u001b[0m\u001b[0;34m'「你好嗎」的英文為'\u001b[0m\u001b[0;34m,\u001b[0m\u001b[0mlang\u001b[0m\u001b[0;34m[\u001b[0m\u001b[0;34m'你好嗎'\u001b[0m\u001b[0;34m]\u001b[0m\u001b[0;34m)\u001b[0m\u001b[0;34m\u001b[0m\u001b[0;34m\u001b[0m\u001b[0m\n\u001b[0m",
            "\u001b[0;31mKeyError\u001b[0m: '你好嗎'"
          ]
        }
      ]
    },
    {
      "cell_type": "code",
      "metadata": {
        "id": "JUvZaw3njlJu",
        "colab_type": "code",
        "outputId": "7a1539d2-2601-4158-e0ad-964278fa6ba8",
        "colab": {
          "base_uri": "https://localhost:8080/",
          "height": 50
        }
      },
      "source": [
        "lang={'早安':'Good Morning','你好':'Hello'}\n",
        "\n",
        "lang['你好']='Hi'\n",
        "print(lang)\n",
        "\n",
        "lang['學生']='Student'\n",
        "print(lang)"
      ],
      "execution_count": 0,
      "outputs": [
        {
          "output_type": "stream",
          "text": [
            "{'早安': 'Good Morning', '你好': 'Hi'}\n",
            "{'早安': 'Good Morning', '你好': 'Hi', '學生': 'Student'}\n"
          ],
          "name": "stdout"
        }
      ]
    },
    {
      "cell_type": "code",
      "metadata": {
        "id": "VPGFfOJrkmCF",
        "colab_type": "code",
        "outputId": "53408dbd-046b-4bf4-a938-f3b2e894e29e",
        "colab": {
          "base_uri": "https://localhost:8080/",
          "height": 34
        }
      },
      "source": [
        "lang={'早安':'Good Morning','你好':'Hello'}\n",
        "del lang['早安']\n",
        "print(lang)"
      ],
      "execution_count": 0,
      "outputs": [
        {
          "output_type": "stream",
          "text": [
            "{'你好': 'Hello'}\n"
          ],
          "name": "stdout"
        }
      ]
    },
    {
      "cell_type": "code",
      "metadata": {
        "id": "Tk0D6bXYlILJ",
        "colab_type": "code",
        "outputId": "9b92e210-49bc-4cb9-8b1b-a6beff00a4a6",
        "colab": {
          "base_uri": "https://localhost:8080/",
          "height": 34
        }
      },
      "source": [
        "lang1={'你好':'Hello'}\n",
        "lang2={'學生':'Student'}\n",
        "\n",
        "lang1.update(lang2)\n",
        "print(lang1)"
      ],
      "execution_count": 0,
      "outputs": [
        {
          "output_type": "stream",
          "text": [
            "{'你好': 'Hello', '學生': 'Student'}\n"
          ],
          "name": "stdout"
        }
      ]
    },
    {
      "cell_type": "code",
      "metadata": {
        "id": "B_MbttGElrZm",
        "colab_type": "code",
        "outputId": "88b680b8-ff3b-41cc-bac4-5888f693b3f8",
        "colab": {
          "base_uri": "https://localhost:8080/",
          "height": 50
        }
      },
      "source": [
        "lang1={'早安':'Good Morning','你好':'Hello'}\n",
        "lang2=lang1\n",
        "lang2['你好']='Hi'\n",
        "\n",
        "print('lang1為',lang1)\n",
        "print('lang2為',lang2)"
      ],
      "execution_count": 0,
      "outputs": [
        {
          "output_type": "stream",
          "text": [
            "lang1為 {'早安': 'Good Morning', '你好': 'Hi'}\n",
            "lang2為 {'早安': 'Good Morning', '你好': 'Hi'}\n"
          ],
          "name": "stdout"
        }
      ]
    },
    {
      "cell_type": "code",
      "metadata": {
        "id": "3i9LR0h3mKDJ",
        "colab_type": "code",
        "outputId": "a0b51679-7cc3-460a-a60c-18a2e19597c8",
        "colab": {
          "base_uri": "https://localhost:8080/",
          "height": 50
        }
      },
      "source": [
        "lang1={'早安':'Good Morning','你好':'Hello'}\n",
        "lang3=lang1.copy()\n",
        "lang3['你好']='Hi'\n",
        "\n",
        "print('lang1為',lang1)\n",
        "print('lang3為',lang3)"
      ],
      "execution_count": 0,
      "outputs": [
        {
          "output_type": "stream",
          "text": [
            "lang1為 {'早安': 'Good Morning', '你好': 'Hello'}\n",
            "lang3為 {'早安': 'Good Morning', '你好': 'Hi'}\n"
          ],
          "name": "stdout"
        }
      ]
    },
    {
      "cell_type": "code",
      "metadata": {
        "id": "5Nm6vLugmpT7",
        "colab_type": "code",
        "outputId": "551a11cf-395a-4cbe-a399-38bf593335e8",
        "colab": {
          "base_uri": "https://localhost:8080/",
          "height": 101
        }
      },
      "source": [
        "s={1,2,3,4}\n",
        "print(s)\n",
        "\n",
        "s=set(('a',1,'b',2))\n",
        "print(s)\n",
        "\n",
        "s=set(['apple','banana',])\n",
        "print(s)\n",
        "\n",
        "s=set({'早安':'Good Morning','你好':'Hello'})\n",
        "print(s)\n",
        "\n",
        "s=set('racecar')\n",
        "print(s)"
      ],
      "execution_count": 0,
      "outputs": [
        {
          "output_type": "stream",
          "text": [
            "{1, 2, 3, 4}\n",
            "{1, 2, 'b', 'a'}\n",
            "{'banana', 'apple'}\n",
            "{'你好', '早安'}\n",
            "{'c', 'e', 'r', 'a'}\n"
          ],
          "name": "stdout"
        }
      ]
    },
    {
      "cell_type": "code",
      "metadata": {
        "id": "LQder27_n3hd",
        "colab_type": "code",
        "outputId": "690558ff-358a-40a4-b994-964b234d81d6",
        "colab": {
          "base_uri": "https://localhost:8080/",
          "height": 67
        }
      },
      "source": [
        "s=set('tiger')\n",
        "print(s)\n",
        "\n",
        "s.add('z')\n",
        "print(s)\n",
        "\n",
        "s.remove('t')\n",
        "print(s)"
      ],
      "execution_count": 0,
      "outputs": [
        {
          "output_type": "stream",
          "text": [
            "{'g', 'e', 't', 'r', 'i'}\n",
            "{'g', 'e', 't', 'r', 'i', 'z'}\n",
            "{'g', 'e', 'r', 'i', 'z'}\n"
          ],
          "name": "stdout"
        }
      ]
    },
    {
      "cell_type": "code",
      "metadata": {
        "id": "wRFwawbmoJtz",
        "colab_type": "code",
        "outputId": "89937fd4-5125-42c9-fe02-3f9435484d4d",
        "colab": {
          "base_uri": "https://localhost:8080/",
          "height": 101
        }
      },
      "source": [
        "a=set('tiger')\n",
        "b=set('bear')\n",
        "print(a)\n",
        "print(b)\n",
        "\n",
        "print(a|b)\n",
        "print(a&b)\n",
        "print(a-b)"
      ],
      "execution_count": 0,
      "outputs": [
        {
          "output_type": "stream",
          "text": [
            "{'g', 'e', 't', 'r', 'i'}\n",
            "{'r', 'e', 'b', 'a'}\n",
            "{'g', 'e', 't', 'r', 'i', 'b', 'a'}\n",
            "{'e', 'r'}\n",
            "{'g', 'i', 't'}\n"
          ],
          "name": "stdout"
        }
      ]
    },
    {
      "cell_type": "code",
      "metadata": {
        "id": "Rg4llzHaoiE2",
        "colab_type": "code",
        "outputId": "6cb12ea9-5a91-41c5-c0d0-4a89a1e0beef",
        "colab": {
          "base_uri": "https://localhost:8080/",
          "height": 50
        }
      },
      "source": [
        "a=set('tiger')\n",
        "b=set('tigers')\n",
        "print(a<=b)\n",
        "\n",
        "a=set('tiger')\n",
        "b=set('tigers')\n",
        "print(a<b)"
      ],
      "execution_count": 0,
      "outputs": [
        {
          "output_type": "stream",
          "text": [
            "True\n",
            "True\n"
          ],
          "name": "stdout"
        }
      ]
    },
    {
      "cell_type": "code",
      "metadata": {
        "id": "WrHw2Tl5o7Od",
        "colab_type": "code",
        "colab": {}
      },
      "source": [
        ""
      ],
      "execution_count": 0,
      "outputs": []
    }
  ]
}