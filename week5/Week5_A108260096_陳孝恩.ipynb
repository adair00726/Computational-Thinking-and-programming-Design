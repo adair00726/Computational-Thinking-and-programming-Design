{
  "nbformat": 4,
  "nbformat_minor": 0,
  "metadata": {
    "colab": {
      "name": "Week5-A108260096-陳孝恩.ipynb",
      "provenance": []
    },
    "kernelspec": {
      "name": "python3",
      "display_name": "Python 3"
    }
  },
  "cells": [
    {
      "cell_type": "code",
      "metadata": {
        "id": "3j0Gm1YxOvEo",
        "colab_type": "code",
        "colab": {
          "base_uri": "https://localhost:8080/",
          "height": 119
        },
        "outputId": "1e14b129-8f64-4635-ad84-7276f9f419c4"
      },
      "source": [
        "name=input('請問貴姓大名')\n",
        "print('你好',name)\n",
        "\n",
        "y=int(input('請問年紀?'))\n",
        "print('原來你',y,'歲')\n",
        "\n",
        "w=float(input('請問體重?'))\n",
        "print('體重為',w)"
      ],
      "execution_count": 1,
      "outputs": [
        {
          "output_type": "stream",
          "text": [
            "請問貴姓大名陳孝恩\n",
            "你好 陳孝恩\n",
            "請問年紀?18\n",
            "原來你 18 歲\n",
            "請問體重?57\n",
            "體重為 57.0\n"
          ],
          "name": "stdout"
        }
      ]
    },
    {
      "cell_type": "code",
      "metadata": {
        "id": "MzylZsE4QuTF",
        "colab_type": "code",
        "colab": {
          "base_uri": "https://localhost:8080/",
          "height": 85
        },
        "outputId": "34598420-7bd5-407a-95db-c40a989e1b49"
      },
      "source": [
        "上衣=int(input('請輸入上衣數量?'))\n",
        "褲子=int(input('請輸入褲子數量?'))\n",
        "背心=int(input('請輸入背心數量?'))\n",
        "\n",
        "總金額=上衣*300+褲子*350+背心*400\n",
        "print('訂購服裝的總金額為',總金額)"
      ],
      "execution_count": 2,
      "outputs": [
        {
          "output_type": "stream",
          "text": [
            "請輸入上衣數量?20\n",
            "請輸入褲子數量?30\n",
            "請輸入背心數量?40\n",
            "訂購服裝的總金額為 32500\n"
          ],
          "name": "stdout"
        }
      ]
    },
    {
      "cell_type": "code",
      "metadata": {
        "id": "90G84LD2SDI3",
        "colab_type": "code",
        "colab": {
          "base_uri": "https://localhost:8080/",
          "height": 51
        },
        "outputId": "711c299e-f78c-4505-b6a4-343ae12ca9e2"
      },
      "source": [
        "半徑=float(input('請輸入半徑?'))\n",
        "PI=3.14159\n",
        "\n",
        "圓周長=2*PI*半徑\n",
        "圓面積=半徑*半徑*PI\n",
        "\n",
        "print('圓周長為',圓周長,'圓面積為',圓面積)"
      ],
      "execution_count": 3,
      "outputs": [
        {
          "output_type": "stream",
          "text": [
            "請輸入半徑?5\n",
            "圓周長為 31.4159 圓面積為 78.53975\n"
          ],
          "name": "stdout"
        }
      ]
    },
    {
      "cell_type": "code",
      "metadata": {
        "id": "9SGJ_LqfTVKO",
        "colab_type": "code",
        "colab": {
          "base_uri": "https://localhost:8080/",
          "height": 51
        },
        "outputId": "1702b5a8-f1ba-482c-c234-776d7124796e"
      },
      "source": [
        "c=float(input('請輸入攝氏溫度?'))\n",
        "\n",
        "f=c*9/5+32\n",
        "\n",
        "print('華氏溫度為',f)"
      ],
      "execution_count": 4,
      "outputs": [
        {
          "output_type": "stream",
          "text": [
            "請輸入攝氏溫度?55\n",
            "華氏溫度為 131.0\n"
          ],
          "name": "stdout"
        }
      ]
    },
    {
      "cell_type": "code",
      "metadata": {
        "id": "FeQ-hxp9UJr3",
        "colab_type": "code",
        "colab": {
          "base_uri": "https://localhost:8080/",
          "height": 102
        },
        "outputId": "4ac1a7cf-54c9-4123-8152-304fe7dd26a5"
      },
      "source": [
        "money=int(input('請輸入本金?'))\n",
        "interest=float(input('請輸入年利率(%)?'))\n",
        "\n",
        "y1=money*(1+interest/100)\n",
        "y2=money*((1+interest/100)**2)\n",
        "y3=money*((1+interest/100)**3)\n",
        "\n",
        "print('第一年本利和為',y1)\n",
        "print('第二年本利和為',y2)\n",
        "print('第三年本利和為',y3)"
      ],
      "execution_count": 5,
      "outputs": [
        {
          "output_type": "stream",
          "text": [
            "請輸入本金?1000\n",
            "請輸入年利率(%)?10\n",
            "第一年本利和為 1100.0\n",
            "第二年本利和為 1210.0000000000002\n",
            "第三年本利和為 1331.0000000000005\n"
          ],
          "name": "stdout"
        }
      ]
    },
    {
      "cell_type": "code",
      "metadata": {
        "id": "v8AcwA8-WJeF",
        "colab_type": "code",
        "colab": {
          "base_uri": "https://localhost:8080/",
          "height": 85
        },
        "outputId": "819c0313-5ec9-4f3d-8b44-4184d994c9f4"
      },
      "source": [
        "第一次=int(input('請輸入第一次期中考成績?'))\n",
        "第二次=int(input('請輸入第二次期中考成績?'))\n",
        "期末考=int(input('請輸入期末考成績?'))\n",
        "\n",
        "總分為=(第一次+第二次+期末考)\n",
        "平均為=(第一次+第二次+期末考)/3\n",
        "\n",
        "print('總分為',總分為,'平均為',平均為)"
      ],
      "execution_count": 6,
      "outputs": [
        {
          "output_type": "stream",
          "text": [
            "請輸入第一次期中考成績?75\n",
            "請輸入第二次期中考成績?80\n",
            "請輸入期末考成績?65\n",
            "總分為 220 平均為 73.33333333333333\n"
          ],
          "name": "stdout"
        }
      ]
    },
    {
      "cell_type": "code",
      "metadata": {
        "id": "YxDN2ukyZNDA",
        "colab_type": "code",
        "colab": {
          "base_uri": "https://localhost:8080/",
          "height": 68
        },
        "outputId": "05e6928a-fc4c-4176-a3df-f28771ffd537"
      },
      "source": [
        "x=float(input('請輸入幾尺'))\n",
        "y=float(input('請輸入幾吋'))\n",
        "公分=(5*12+8)*2.54\n",
        "\n",
        "print('轉換為',公分,'公分')"
      ],
      "execution_count": 7,
      "outputs": [
        {
          "output_type": "stream",
          "text": [
            "請輸入幾尺5\n",
            "請輸入幾吋8\n",
            "轉換為 172.72 公分\n"
          ],
          "name": "stdout"
        }
      ]
    },
    {
      "cell_type": "code",
      "metadata": {
        "id": "gU7UGyn6bHnT",
        "colab_type": "code",
        "colab": {
          "base_uri": "https://localhost:8080/",
          "height": 51
        },
        "outputId": "11012c71-2885-4f0c-f930-7d052f7bd310"
      },
      "source": [
        "a=int(input('請輸入座號?'))\n",
        "組別為=a//5+1\n",
        "\n",
        "print('組別為',組別為)"
      ],
      "execution_count": 8,
      "outputs": [
        {
          "output_type": "stream",
          "text": [
            "請輸入座號?19\n",
            "組別為 4\n"
          ],
          "name": "stdout"
        }
      ]
    },
    {
      "cell_type": "code",
      "metadata": {
        "id": "qQ4ipCY8cxGP",
        "colab_type": "code",
        "colab": {}
      },
      "source": [
        ""
      ],
      "execution_count": 0,
      "outputs": []
    }
  ]
}