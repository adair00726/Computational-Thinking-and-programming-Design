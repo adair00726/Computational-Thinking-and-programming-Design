{
  "nbformat": 4,
  "nbformat_minor": 0,
  "metadata": {
    "colab": {
      "name": "A108260096-陳孝恩-Week12.ipynb",
      "provenance": []
    },
    "kernelspec": {
      "name": "python3",
      "display_name": "Python 3"
    }
  },
  "cells": [
    {
      "cell_type": "code",
      "metadata": {
        "id": "VAvEMBBBlTgS",
        "colab_type": "code",
        "colab": {
          "base_uri": "https://localhost:8080/",
          "height": 34
        },
        "outputId": "2b05c0d3-b4cc-439f-cb9b-405cd9a65ed7"
      },
      "source": [
        "n=0   #初始條件\n",
        "result=0\n",
        "\n",
        "while n < 10: #判斷條件\n",
        "    n=n+1   #更新條件\n",
        "    result=result+n # 累加\n",
        "print(\"finished\")"
      ],
      "execution_count": 1,
      "outputs": [
        {
          "output_type": "stream",
          "text": [
            "finished\n"
          ],
          "name": "stdout"
        }
      ]
    },
    {
      "cell_type": "code",
      "metadata": {
        "id": "S6DflMb5mHIU",
        "colab_type": "code",
        "colab": {
          "base_uri": "https://localhost:8080/",
          "height": 34
        },
        "outputId": "284fa05c-7e89-4d7f-80cb-c6497cf28b31"
      },
      "source": [
        "n=0   #初始條件\n",
        "\n",
        "while n < 10: #判斷條件\n",
        "    n=n+1   #更新條件\n",
        "    if n==4:\n",
        "     break #跳離迴圈\n",
        "print(\"finished\")"
      ],
      "execution_count": 4,
      "outputs": [
        {
          "output_type": "stream",
          "text": [
            "finished\n"
          ],
          "name": "stdout"
        }
      ]
    },
    {
      "cell_type": "code",
      "metadata": {
        "id": "Cc_Z1daJmgKG",
        "colab_type": "code",
        "colab": {
          "base_uri": "https://localhost:8080/",
          "height": 34
        },
        "outputId": "d04b5828-39fc-481a-f667-1dd350058194"
      },
      "source": [
        "n=0   #初始條件\n",
        "\n",
        "while n < 10: #判斷條件\n",
        "    n=n+1   #更新條件\n",
        "    if n==4:\n",
        "     continue #跳離迴圈+此次迴圈不執行\n",
        "print(\"finished\")"
      ],
      "execution_count": 5,
      "outputs": [
        {
          "output_type": "stream",
          "text": [
            "finished\n"
          ],
          "name": "stdout"
        }
      ]
    },
    {
      "cell_type": "code",
      "metadata": {
        "id": "qZk6m9fVnESe",
        "colab_type": "code",
        "colab": {
          "base_uri": "https://localhost:8080/",
          "height": 131
        },
        "outputId": "67f7ba3c-4559-4179-a552-7362dd66d165"
      },
      "source": [
        "x=5\n",
        "while True\n",
        "    print(\"hello\")\n",
        "    x= x+1"
      ],
      "execution_count": 6,
      "outputs": [
        {
          "output_type": "error",
          "ename": "SyntaxError",
          "evalue": "ignored",
          "traceback": [
            "\u001b[0;36m  File \u001b[0;32m\"<ipython-input-6-4f538d1139ce>\"\u001b[0;36m, line \u001b[0;32m2\u001b[0m\n\u001b[0;31m    while True\u001b[0m\n\u001b[0m              ^\u001b[0m\n\u001b[0;31mSyntaxError\u001b[0m\u001b[0;31m:\u001b[0m invalid syntax\n"
          ]
        }
      ]
    },
    {
      "cell_type": "code",
      "metadata": {
        "id": "cDeLifmEnc7q",
        "colab_type": "code",
        "colab": {
          "base_uri": "https://localhost:8080/",
          "height": 131
        },
        "outputId": "f8267399-97a9-484b-bff5-a530000b65d5"
      },
      "source": [
        "#無窮迴圈 while true + break\n",
        "\n",
        "while True\n",
        "     print(\"Hello\") #運算式\n",
        "     if 條件:\n",
        "         執行動作\n",
        "    else:\n",
        "        break"
      ],
      "execution_count": 7,
      "outputs": [
        {
          "output_type": "error",
          "ename": "SyntaxError",
          "evalue": "ignored",
          "traceback": [
            "\u001b[0;36m  File \u001b[0;32m\"<ipython-input-7-e73362da4003>\"\u001b[0;36m, line \u001b[0;32m2\u001b[0m\n\u001b[0;31m    while True\u001b[0m\n\u001b[0m              ^\u001b[0m\n\u001b[0;31mSyntaxError\u001b[0m\u001b[0;31m:\u001b[0m invalid syntax\n"
          ]
        }
      ]
    },
    {
      "cell_type": "code",
      "metadata": {
        "id": "J85V1FNJoMgq",
        "colab_type": "code",
        "colab": {
          "base_uri": "https://localhost:8080/",
          "height": 119
        },
        "outputId": "e804eeb1-c6fb-4820-d88a-d58ae71ccf15"
      },
      "source": [
        "#請寫一個程式模擬密碼登入，使用者輸入密碼\n",
        "#若密碼一致，則輸入「密碼正確」，否則輸出「登入失敗」 TRY AGAIN\n",
        "\n",
        "answer=\"123\"\n",
        "while True:\n",
        "  passward = input(\"Enter Your Passward:\")\n",
        "  if passward == answer:\n",
        "      print(\"Correct\")\n",
        "      break\n",
        "  else:\n",
        "    print(\"Fall,Try Again\")"
      ],
      "execution_count": 8,
      "outputs": [
        {
          "output_type": "stream",
          "text": [
            "Enter Your Passward:123456\n",
            "Fall,Try Again\n",
            "Enter Your Passward:456789\n",
            "Fall,Try Again\n",
            "Enter Your Passward:123\n",
            "Correct\n"
          ],
          "name": "stdout"
        }
      ]
    },
    {
      "cell_type": "code",
      "metadata": {
        "id": "cpNY-wPSqHTJ",
        "colab_type": "code",
        "colab": {
          "base_uri": "https://localhost:8080/",
          "height": 136
        },
        "outputId": "3a1a3b3b-5588-4502-d649-a617f1f7b2cc"
      },
      "source": [
        "#請寫一個程式模擬帳號與密碼登入，使用者輸入帳號與密碼\n",
        "#若帳號密碼一致，則輸入「帳號與密碼正確」，否則輸出「登入失敗」\n",
        "while True:\n",
        "    account = input(\"Enter Your Account\")\n",
        "    passward = input(\"Enter Your Passward:\")\n",
        "    if account ==\"answer\":\n",
        "      print(\"Correct\")\n",
        "      break\n",
        "    else:\n",
        "      print(\"Fall,Try Again\")\n",
        "    if passward ==\"answer\":\n",
        "      print(\"Correct\")\n",
        "      break\n",
        "    else:\n",
        "      print(\"Fall,Try Again\")"
      ],
      "execution_count": 10,
      "outputs": [
        {
          "output_type": "stream",
          "text": [
            "Enter Your Account123\n",
            "Enter Your Passward:123\n",
            "Fall,Try Again\n",
            "Fall,Try Again\n",
            "Enter Your Accountanswer\n",
            "Enter Your Passward:answer\n",
            "Correct\n"
          ],
          "name": "stdout"
        }
      ]
    },
    {
      "cell_type": "code",
      "metadata": {
        "id": "8ik4RENQsM4g",
        "colab_type": "code",
        "colab": {
          "base_uri": "https://localhost:8080/",
          "height": 51
        },
        "outputId": "b947b0c6-3f09-4f54-8276-09d99299ddeb"
      },
      "source": [
        "passward=\"chowchle\"\n",
        "times=0\n",
        "\n",
        "while times <= 3:\n",
        "    answer = input(\"Enter Your Passward:\")\n",
        "    if answer == passward:\n",
        "       print(\"登入成功\")\n",
        "       break\n",
        "    else:\n",
        "      times = times+1\n",
        "      chance =3-times\n",
        "      print(\"密碼錯誤!還有\",chance,\"次機會\")"
      ],
      "execution_count": 17,
      "outputs": [
        {
          "output_type": "stream",
          "text": [
            "Enter Your Passward:chowchle\n",
            "登入成功\n"
          ],
          "name": "stdout"
        }
      ]
    },
    {
      "cell_type": "code",
      "metadata": {
        "id": "C31yzRfbxeKp",
        "colab_type": "code",
        "colab": {
          "base_uri": "https://localhost:8080/",
          "height": 34
        },
        "outputId": "f3c4e9fa-bfd7-43ea-fe3d-ec176995bcec"
      },
      "source": [
        "for a in range(6):\n",
        "    print(a,end =\" \")"
      ],
      "execution_count": 20,
      "outputs": [
        {
          "output_type": "stream",
          "text": [
            "0 1 2 3 4 5 "
          ],
          "name": "stdout"
        }
      ]
    },
    {
      "cell_type": "code",
      "metadata": {
        "id": "9krT9iNi2ytk",
        "colab_type": "code",
        "colab": {
          "base_uri": "https://localhost:8080/",
          "height": 34
        },
        "outputId": "553ae345-512d-40b6-a927-2b11c7d07878"
      },
      "source": [
        "sum = 0\n",
        "for x in range(1, 11, 2): #判斷條件(計數)\n",
        "     sum = sum + x      #加總\n",
        "print(\"1+3+5+7+9=\", sum)"
      ],
      "execution_count": 21,
      "outputs": [
        {
          "output_type": "stream",
          "text": [
            "1+3+5+7+9= 25\n"
          ],
          "name": "stdout"
        }
      ]
    },
    {
      "cell_type": "code",
      "metadata": {
        "id": "L9WlibZp37Cx",
        "colab_type": "code",
        "colab": {
          "base_uri": "https://localhost:8080/",
          "height": 51
        },
        "outputId": "ed065dfc-3fc0-4bf2-b803-97d4f49011a9"
      },
      "source": [
        "n = int(input('請輸入n值?'))\n",
        "sum = 0;\n",
        "for i in range(1,n+1):\n",
        "     sum = sum + i*i;\n",
        "print(sum)\n"
      ],
      "execution_count": 23,
      "outputs": [
        {
          "output_type": "stream",
          "text": [
            "請輸入n值?5\n",
            "55\n"
          ],
          "name": "stdout"
        }
      ]
    },
    {
      "cell_type": "code",
      "metadata": {
        "id": "id-dgn604O42",
        "colab_type": "code",
        "colab": {}
      },
      "source": [
        ""
      ],
      "execution_count": 0,
      "outputs": []
    }
  ]
}