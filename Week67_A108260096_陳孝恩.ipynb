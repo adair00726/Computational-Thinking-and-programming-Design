{
  "nbformat": 4,
  "nbformat_minor": 0,
  "metadata": {
    "colab": {
      "name": "Week67-A108260096-陳孝恩.ipynb",
      "provenance": []
    },
    "kernelspec": {
      "name": "python3",
      "display_name": "Python 3"
    }
  },
  "cells": [
    {
      "cell_type": "code",
      "metadata": {
        "id": "rCuwRToyODGK",
        "colab_type": "code",
        "colab": {
          "base_uri": "https://localhost:8080/",
          "height": 102
        },
        "outputId": "85784612-1a92-44aa-d2b2-a81447adb847"
      },
      "source": [
        "player=\"Ron Harper\"\n",
        "player_list=[\"Ron Harper\", \"Michael Jordan\", \"Scottie Pippen\", \"Dennis Rodman\", \"Luc Longley\"]\n",
        "player_tuple=tuple(player_list)\n",
        "player_dict={\"PG\": \"Ron Harper\",\"SG\": \"Michael Jordan\",\"SF\": \"Scottie Pippen\",\n",
        "            \"PF\": \"Dennis Rodman\", \"C\": \"Luc Longley\"}\n",
        "player_set=set(player_list)\n",
        "             \n",
        "print(type(player))\n",
        "print(type(player_list))\n",
        "print(type(player_tuple))\n",
        "print(type(player_dict))\n",
        "print(type(player_set))             "
      ],
      "execution_count": 2,
      "outputs": [
        {
          "output_type": "stream",
          "text": [
            "<class 'str'>\n",
            "<class 'list'>\n",
            "<class 'tuple'>\n",
            "<class 'dict'>\n",
            "<class 'set'>\n"
          ],
          "name": "stdout"
        }
      ]
    },
    {
      "cell_type": "code",
      "metadata": {
        "id": "sYPcjeLtTu77",
        "colab_type": "code",
        "colab": {
          "base_uri": "https://localhost:8080/",
          "height": 34
        },
        "outputId": "73564d09-dec6-47ae-ed68-b93dc86d83cb"
      },
      "source": [
        "s1='春眠不覺曉,處處聞啼鳥。'\n",
        "print(s1)"
      ],
      "execution_count": 4,
      "outputs": [
        {
          "output_type": "stream",
          "text": [
            "春眠不覺曉,處處聞啼鳥。\n"
          ],
          "name": "stdout"
        }
      ]
    },
    {
      "cell_type": "code",
      "metadata": {
        "id": "GUWU9w15WG4K",
        "colab_type": "code",
        "colab": {
          "base_uri": "https://localhost:8080/",
          "height": 34
        },
        "outputId": "2fd05bc6-5a52-424d-a38b-670ba3afc043"
      },
      "source": [
        "s2=\"夜來風雨聲,花落知多少。\"\n",
        "print(s2)"
      ],
      "execution_count": 5,
      "outputs": [
        {
          "output_type": "stream",
          "text": [
            "夜來風雨聲,花落知多少。\n"
          ],
          "name": "stdout"
        }
      ]
    },
    {
      "cell_type": "code",
      "metadata": {
        "id": "uy7JWrVDWucI",
        "colab_type": "code",
        "colab": {
          "base_uri": "https://localhost:8080/",
          "height": 51
        },
        "outputId": "e3a4dd47-9593-47f1-f045-d5bf4c619fdb"
      },
      "source": [
        "s3='作者\"孟浩然\" 詩名\"春曉\"'\n",
        "print(s3)\n",
        "\n",
        "s4=\"作者'孟浩然' 詩名'春曉'\"\n",
        "print(s4)"
      ],
      "execution_count": 6,
      "outputs": [
        {
          "output_type": "stream",
          "text": [
            "作者\"孟浩然\" 詩名\"春曉\"\n",
            "作者'孟浩然' 詩名'春曉'\n"
          ],
          "name": "stdout"
        }
      ]
    },
    {
      "cell_type": "code",
      "metadata": {
        "id": "nbEAlGZhXgkR",
        "colab_type": "code",
        "colab": {
          "base_uri": "https://localhost:8080/",
          "height": 85
        },
        "outputId": "c7276c06-6df0-4d48-d7be-de844fca1fa4"
      },
      "source": [
        "s5='''   春眠不覺曉，處處聞啼鳥。\n",
        "   夜來風雨聲，花落知多少。\n",
        "   作者\"孟浩然\" 詩名\"春曉\"\n",
        "'''\n",
        "print(s5)"
      ],
      "execution_count": 7,
      "outputs": [
        {
          "output_type": "stream",
          "text": [
            "   春眠不覺曉，處處聞啼鳥。\n",
            "   夜來風雨聲，花落知多少。\n",
            "   作者\"孟浩然\" 詩名\"春曉\"\n",
            "\n"
          ],
          "name": "stdout"
        }
      ]
    },
    {
      "cell_type": "code",
      "metadata": {
        "id": "g2RccIePZAVG",
        "colab_type": "code",
        "colab": {
          "base_uri": "https://localhost:8080/",
          "height": 34
        },
        "outputId": "d802e50c-3fb9-487f-990e-662e3ece7cf3"
      },
      "source": [
        "s1=\"123\"\n",
        "s2=\"456\"\n",
        "\n",
        "s3=s1+s2\n",
        "print(s3)"
      ],
      "execution_count": 8,
      "outputs": [
        {
          "output_type": "stream",
          "text": [
            "123456\n"
          ],
          "name": "stdout"
        }
      ]
    },
    {
      "cell_type": "code",
      "metadata": {
        "id": "gk6d-iJXZWxz",
        "colab_type": "code",
        "colab": {
          "base_uri": "https://localhost:8080/",
          "height": 34
        },
        "outputId": "909ed82a-a921-4162-fa0e-3c63c6f49817"
      },
      "source": [
        "s4=s1*2\n",
        "print(s4)"
      ],
      "execution_count": 9,
      "outputs": [
        {
          "output_type": "stream",
          "text": [
            "123123\n"
          ],
          "name": "stdout"
        }
      ]
    },
    {
      "cell_type": "code",
      "metadata": {
        "id": "5zU9ABIGZe3Y",
        "colab_type": "code",
        "colab": {
          "base_uri": "https://localhost:8080/",
          "height": 68
        },
        "outputId": "f978f7c8-1aff-469e-aaf4-94cacff400d5"
      },
      "source": [
        "s5='春眠不覺曉，處處聞啼鳥。\\n\\\n",
        "夜來風雨聲，花落知多少。\\n\\\n",
        "\\t作者\"孟浩然\" 詩名\"春曉\"'\n",
        "print(s5)"
      ],
      "execution_count": 10,
      "outputs": [
        {
          "output_type": "stream",
          "text": [
            "春眠不覺曉，處處聞啼鳥。\n",
            "夜來風雨聲，花落知多少。\n",
            "\t作者\"孟浩然\" 詩名\"春曉\"\n"
          ],
          "name": "stdout"
        }
      ]
    },
    {
      "cell_type": "code",
      "metadata": {
        "id": "xzjxox3YaD9X",
        "colab_type": "code",
        "colab": {
          "base_uri": "https://localhost:8080/",
          "height": 85
        },
        "outputId": "86dd1731-5bb8-47a4-9c6d-591a39a30692"
      },
      "source": [
        "s='0123456789'\n",
        "print(s[0])\n",
        "print('s[1]',s[1])\n",
        "print(s[-1])\n",
        "print('s[-2]=',s[-2])"
      ],
      "execution_count": 11,
      "outputs": [
        {
          "output_type": "stream",
          "text": [
            "0\n",
            "s[1] 1\n",
            "9\n",
            "s[-2]= 8\n"
          ],
          "name": "stdout"
        }
      ]
    },
    {
      "cell_type": "code",
      "metadata": {
        "id": "N9REcs2hajMv",
        "colab_type": "code",
        "colab": {
          "base_uri": "https://localhost:8080/",
          "height": 204
        },
        "outputId": "56b53fa8-75c7-40b5-a599-5ba4269cc20c"
      },
      "source": [
        "s='0123456789'\n",
        "\n",
        "print('s=',s,'s[:]=',s[:])\n",
        "print('s=',s,'s[5:]=',s[5:])\n",
        "print('s=',s,'s[-2:]=',s[-2:])\n",
        "print('s=',s,'s[:5]=',s[:5])\n",
        "print('s=',s,'s[:-2]=',s[:-2])\n",
        "\n",
        "print('s=',s,'s[7:9]=',s[7:9])\n",
        "print('s=',s,'s[-4:-1]=',s[-4:-1])\n",
        "print('s=',s,'s[5:-2]=',s[5:-2])\n",
        "print('s=',s,'s[2:10:2]=',s[2:10:2])\n",
        "print('s=',s,'s[::-1]=',s[::-1])\n",
        "print('s=',s,'s[-1::-1]=',s[-1::-1])"
      ],
      "execution_count": 12,
      "outputs": [
        {
          "output_type": "stream",
          "text": [
            "s= 0123456789 s[:]= 0123456789\n",
            "s= 0123456789 s[5:]= 56789\n",
            "s= 0123456789 s[-2:]= 89\n",
            "s= 0123456789 s[:5]= 01234\n",
            "s= 0123456789 s[:-2]= 01234567\n",
            "s= 0123456789 s[7:9]= 78\n",
            "s= 0123456789 s[-4:-1]= 678\n",
            "s= 0123456789 s[5:-2]= 567\n",
            "s= 0123456789 s[2:10:2]= 2468\n",
            "s= 0123456789 s[::-1]= 9876543210\n",
            "s= 0123456789 s[-1::-1]= 9876543210\n"
          ],
          "name": "stdout"
        }
      ]
    },
    {
      "cell_type": "code",
      "metadata": {
        "id": "jcdrMhsPd5dq",
        "colab_type": "code",
        "colab": {
          "base_uri": "https://localhost:8080/",
          "height": 34
        },
        "outputId": "c86a98c6-ba9a-418b-8e3e-8a505c7cc334"
      },
      "source": [
        "s='春眠不覺曉，處處聞啼鳥，夜來風雨聲，花落知多少。'\n",
        "\n",
        "list1=s.split(',')\n",
        "print(list1)"
      ],
      "execution_count": 13,
      "outputs": [
        {
          "output_type": "stream",
          "text": [
            "['春眠不覺曉，處處聞啼鳥，夜來風雨聲，花落知多少。']\n"
          ],
          "name": "stdout"
        }
      ]
    },
    {
      "cell_type": "code",
      "metadata": {
        "id": "Fq-Qt34CeXfH",
        "colab_type": "code",
        "colab": {
          "base_uri": "https://localhost:8080/",
          "height": 34
        },
        "outputId": "388d8b4f-8d68-4f44-eaaa-997977a53cb5"
      },
      "source": [
        "list1=['春眠不覺曉，處處聞啼鳥，夜來風雨聲，花落知多少。']\n",
        "\n",
        "s2=','.join(list1)\n",
        "print(s2)"
      ],
      "execution_count": 14,
      "outputs": [
        {
          "output_type": "stream",
          "text": [
            "春眠不覺曉，處處聞啼鳥，夜來風雨聲，花落知多少。\n"
          ],
          "name": "stdout"
        }
      ]
    },
    {
      "cell_type": "code",
      "metadata": {
        "id": "-uOUoj02fFbU",
        "colab_type": "code",
        "colab": {}
      },
      "source": [
        ""
      ],
      "execution_count": 0,
      "outputs": []
    }
  ]
}